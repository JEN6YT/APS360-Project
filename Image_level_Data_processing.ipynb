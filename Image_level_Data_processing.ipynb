{
  "cells": [
    {
      "cell_type": "markdown",
      "metadata": {
        "id": "view-in-github",
        "colab_type": "text"
      },
      "source": [
        "<a href=\"https://colab.research.google.com/github/JEN6YT/APS360-Project/blob/main/Image_level_Data_processing.ipynb\" target=\"_parent\"><img src=\"https://colab.research.google.com/assets/colab-badge.svg\" alt=\"Open In Colab\"/></a>"
      ]
    },
    {
      "cell_type": "code",
      "execution_count": null,
      "metadata": {
        "id": "oEZbhYA4rCGi"
      },
      "outputs": [],
      "source": [
        "from PIL import Image, ImageDraw\n",
        "import pandas as pd\n",
        "import os\n",
        "import torchvision.transforms as transforms\n",
        "import torch\n",
        "import random\n",
        "import numpy as np\n",
        "from imblearn.over_sampling import RandomOverSampler\n",
        "from keras.preprocessing.image import ImageDataGenerator\n",
        "from sklearn.model_selection import train_test_split"
      ]
    },
    {
      "cell_type": "code",
      "execution_count": null,
      "metadata": {
        "colab": {
          "base_uri": "https://localhost:8080/"
        },
        "id": "Vu0sPIvgrSbL",
        "outputId": "976a5f7a-5b3d-4775-dad3-056bf5294160"
      },
      "outputs": [
        {
          "output_type": "stream",
          "name": "stdout",
          "text": [
            "Mounted at /content/drive\n"
          ]
        }
      ],
      "source": [
        "from google.colab import drive\n",
        "drive.mount('/content/drive')"
      ]
    },
    {
      "cell_type": "markdown",
      "source": [
        "# Get image and label\n"
      ],
      "metadata": {
        "id": "S7KIw4ei_g8P"
      }
    },
    {
      "cell_type": "code",
      "execution_count": null,
      "metadata": {
        "id": "SvsKOIfpxWu3",
        "colab": {
          "base_uri": "https://localhost:8080/",
          "height": 107
        },
        "outputId": "0e159ad5-a9ab-402d-cc71-e349045502f5"
      },
      "outputs": [
        {
          "output_type": "execute_result",
          "data": {
            "text/plain": [
              "'\\n# read the xlsx file from Google Drive\\nfile_path = \\'/content/drive/MyDrive/APS360/NIH-NLM-ThinBloodSmearsPf/img_path.xlsx\\'\\n\\n# The dataframe store all the path, i.e. \\'NIH-NLM-ThinBloodSmearsPf\\\\Polygon SetbC38P...\\'\\ndf1 = pd.read_excel(file_path)\\n\\n# create complete path for each image\\nprefix = \"/content/drive/MyDrive/APS360/\"\\ndf1 = df1.applymap(lambda x: prefix + str(x))\\n'"
            ],
            "application/vnd.google.colaboratory.intrinsic+json": {
              "type": "string"
            }
          },
          "metadata": {},
          "execution_count": 13
        }
      ],
      "source": [
        "\n",
        "# read the xlsx file from Google Drive\n",
        "file_path = '/content/drive/MyDrive/APS360/NIH-NLM-ThinBloodSmearsPf/img_path.xlsx'\n",
        "\n",
        "# The dataframe store all the path, i.e. 'NIH-NLM-ThinBloodSmearsPf\\Polygon Set\\142C38P...'\n",
        "df1 = pd.read_excel(file_path)\n",
        "\n",
        "# create complete path for each image\n",
        "prefix = \"/content/drive/MyDrive/APS360/\"\n",
        "df1 = df1.applymap(lambda x: prefix + str(x))\n"
      ]
    },
    {
      "cell_type": "code",
      "execution_count": null,
      "metadata": {
        "colab": {
          "base_uri": "https://localhost:8080/",
          "height": 293
        },
        "id": "T4HfcIixyB4p",
        "outputId": "e24a9fb0-4fad-4b4e-b1dc-7a36e651de21"
      },
      "outputs": [
        {
          "output_type": "execute_result",
          "data": {
            "text/plain": [
              "                                           File path\n",
              "0  /content/drive/MyDrive/APS360NIH-NLM-ThinBlood...\n",
              "1  /content/drive/MyDrive/APS360NIH-NLM-ThinBlood...\n",
              "2  /content/drive/MyDrive/APS360NIH-NLM-ThinBlood...\n",
              "3  /content/drive/MyDrive/APS360NIH-NLM-ThinBlood...\n",
              "4  /content/drive/MyDrive/APS360NIH-NLM-ThinBlood..."
            ],
            "text/html": [
              "\n",
              "  <div id=\"df-c3aae382-aa7b-4f5c-b1ef-d5778ee3ee75\">\n",
              "    <div class=\"colab-df-container\">\n",
              "      <div>\n",
              "<style scoped>\n",
              "    .dataframe tbody tr th:only-of-type {\n",
              "        vertical-align: middle;\n",
              "    }\n",
              "\n",
              "    .dataframe tbody tr th {\n",
              "        vertical-align: top;\n",
              "    }\n",
              "\n",
              "    .dataframe thead th {\n",
              "        text-align: right;\n",
              "    }\n",
              "</style>\n",
              "<table border=\"1\" class=\"dataframe\">\n",
              "  <thead>\n",
              "    <tr style=\"text-align: right;\">\n",
              "      <th></th>\n",
              "      <th>File path</th>\n",
              "    </tr>\n",
              "  </thead>\n",
              "  <tbody>\n",
              "    <tr>\n",
              "      <th>0</th>\n",
              "      <td>/content/drive/MyDrive/APS360NIH-NLM-ThinBlood...</td>\n",
              "    </tr>\n",
              "    <tr>\n",
              "      <th>1</th>\n",
              "      <td>/content/drive/MyDrive/APS360NIH-NLM-ThinBlood...</td>\n",
              "    </tr>\n",
              "    <tr>\n",
              "      <th>2</th>\n",
              "      <td>/content/drive/MyDrive/APS360NIH-NLM-ThinBlood...</td>\n",
              "    </tr>\n",
              "    <tr>\n",
              "      <th>3</th>\n",
              "      <td>/content/drive/MyDrive/APS360NIH-NLM-ThinBlood...</td>\n",
              "    </tr>\n",
              "    <tr>\n",
              "      <th>4</th>\n",
              "      <td>/content/drive/MyDrive/APS360NIH-NLM-ThinBlood...</td>\n",
              "    </tr>\n",
              "  </tbody>\n",
              "</table>\n",
              "</div>\n",
              "      <button class=\"colab-df-convert\" onclick=\"convertToInteractive('df-c3aae382-aa7b-4f5c-b1ef-d5778ee3ee75')\"\n",
              "              title=\"Convert this dataframe to an interactive table.\"\n",
              "              style=\"display:none;\">\n",
              "        \n",
              "  <svg xmlns=\"http://www.w3.org/2000/svg\" height=\"24px\"viewBox=\"0 0 24 24\"\n",
              "       width=\"24px\">\n",
              "    <path d=\"M0 0h24v24H0V0z\" fill=\"none\"/>\n",
              "    <path d=\"M18.56 5.44l.94 2.06.94-2.06 2.06-.94-2.06-.94-.94-2.06-.94 2.06-2.06.94zm-11 1L8.5 8.5l.94-2.06 2.06-.94-2.06-.94L8.5 2.5l-.94 2.06-2.06.94zm10 10l.94 2.06.94-2.06 2.06-.94-2.06-.94-.94-2.06-.94 2.06-2.06.94z\"/><path d=\"M17.41 7.96l-1.37-1.37c-.4-.4-.92-.59-1.43-.59-.52 0-1.04.2-1.43.59L10.3 9.45l-7.72 7.72c-.78.78-.78 2.05 0 2.83L4 21.41c.39.39.9.59 1.41.59.51 0 1.02-.2 1.41-.59l7.78-7.78 2.81-2.81c.8-.78.8-2.07 0-2.86zM5.41 20L4 18.59l7.72-7.72 1.47 1.35L5.41 20z\"/>\n",
              "  </svg>\n",
              "      </button>\n",
              "      \n",
              "  <style>\n",
              "    .colab-df-container {\n",
              "      display:flex;\n",
              "      flex-wrap:wrap;\n",
              "      gap: 12px;\n",
              "    }\n",
              "\n",
              "    .colab-df-convert {\n",
              "      background-color: #E8F0FE;\n",
              "      border: none;\n",
              "      border-radius: 50%;\n",
              "      cursor: pointer;\n",
              "      display: none;\n",
              "      fill: #1967D2;\n",
              "      height: 32px;\n",
              "      padding: 0 0 0 0;\n",
              "      width: 32px;\n",
              "    }\n",
              "\n",
              "    .colab-df-convert:hover {\n",
              "      background-color: #E2EBFA;\n",
              "      box-shadow: 0px 1px 2px rgba(60, 64, 67, 0.3), 0px 1px 3px 1px rgba(60, 64, 67, 0.15);\n",
              "      fill: #174EA6;\n",
              "    }\n",
              "\n",
              "    [theme=dark] .colab-df-convert {\n",
              "      background-color: #3B4455;\n",
              "      fill: #D2E3FC;\n",
              "    }\n",
              "\n",
              "    [theme=dark] .colab-df-convert:hover {\n",
              "      background-color: #434B5C;\n",
              "      box-shadow: 0px 1px 3px 1px rgba(0, 0, 0, 0.15);\n",
              "      filter: drop-shadow(0px 1px 2px rgba(0, 0, 0, 0.3));\n",
              "      fill: #FFFFFF;\n",
              "    }\n",
              "  </style>\n",
              "\n",
              "      <script>\n",
              "        const buttonEl =\n",
              "          document.querySelector('#df-c3aae382-aa7b-4f5c-b1ef-d5778ee3ee75 button.colab-df-convert');\n",
              "        buttonEl.style.display =\n",
              "          google.colab.kernel.accessAllowed ? 'block' : 'none';\n",
              "\n",
              "        async function convertToInteractive(key) {\n",
              "          const element = document.querySelector('#df-c3aae382-aa7b-4f5c-b1ef-d5778ee3ee75');\n",
              "          const dataTable =\n",
              "            await google.colab.kernel.invokeFunction('convertToInteractive',\n",
              "                                                     [key], {});\n",
              "          if (!dataTable) return;\n",
              "\n",
              "          const docLinkHtml = 'Like what you see? Visit the ' +\n",
              "            '<a target=\"_blank\" href=https://colab.research.google.com/notebooks/data_table.ipynb>data table notebook</a>'\n",
              "            + ' to learn more about interactive tables.';\n",
              "          element.innerHTML = '';\n",
              "          dataTable['output_type'] = 'display_data';\n",
              "          await google.colab.output.renderOutput(dataTable, element);\n",
              "          const docLink = document.createElement('div');\n",
              "          docLink.innerHTML = docLinkHtml;\n",
              "          element.appendChild(docLink);\n",
              "        }\n",
              "      </script>\n",
              "    </div>\n",
              "  </div>\n",
              "  "
            ]
          },
          "metadata": {},
          "execution_count": 24
        }
      ],
      "source": [
        "test_df1.head()"
      ]
    },
    {
      "cell_type": "code",
      "source": [
        "df1.shape"
      ],
      "metadata": {
        "colab": {
          "base_uri": "https://localhost:8080/"
        },
        "id": "LVJRao1kgYq-",
        "outputId": "192be75f-0c0c-4afa-a3e0-cd2f2efd1b7f"
      },
      "execution_count": null,
      "outputs": [
        {
          "output_type": "execute_result",
          "data": {
            "text/plain": [
              "(165, 1)"
            ]
          },
          "metadata": {},
          "execution_count": 5
        }
      ]
    },
    {
      "cell_type": "code",
      "source": [
        "# read the xlsx file from Google Drive\n",
        "test_file_path = '/content/drive/MyDrive/APS360/NIH-NLM-ThinBloodSmearsPf/test_img_path.xlsx'\n",
        "\n",
        "# The dataframe store all the path, i.e. 'NIH-NLM-ThinBloodSmearsPf\\Polygon Set\\142C38P...'\n",
        "test_df1 = pd.read_excel(test_file_path)\n",
        "\n",
        "# create complete path for each image\n",
        "prefix = \"/content/drive/MyDrive/APS360/\"\n",
        "test_df1 = test_df1.applymap(lambda x: prefix + str(x))\n"
      ],
      "metadata": {
        "id": "P42NEEqDYdr5"
      },
      "execution_count": null,
      "outputs": []
    },
    {
      "cell_type": "code",
      "source": [
        "# read the xlsx file from Google Drive\n",
        "file_path_infected = '/content/drive/MyDrive/APS360/NIH-NLM-ThinBloodSmearsPf/infected_RBC.xlsx'\n",
        "\n",
        "# The dataframe store all the path, i.e. 'NIH-NLM-ThinBloodSmearsPf\\Polygon Set\\142C38P...'\n",
        "df2 = pd.read_excel(file_path_infected)"
      ],
      "metadata": {
        "id": "7YtfiqUfVoPB"
      },
      "execution_count": null,
      "outputs": []
    },
    {
      "cell_type": "code",
      "source": [
        "df2.head()"
      ],
      "metadata": {
        "colab": {
          "base_uri": "https://localhost:8080/",
          "height": 206
        },
        "id": "Jrg_UbI_V6gJ",
        "outputId": "afc26c71-143d-4517-dc40-1c447e4822d8"
      },
      "execution_count": null,
      "outputs": [
        {
          "output_type": "execute_result",
          "data": {
            "text/plain": [
              "   Infected RBC\n",
              "0             0\n",
              "1             2\n",
              "2             2\n",
              "3             1\n",
              "4             0"
            ],
            "text/html": [
              "\n",
              "  <div id=\"df-f20e29ea-847c-4eaa-a8d4-779e9e2c239b\">\n",
              "    <div class=\"colab-df-container\">\n",
              "      <div>\n",
              "<style scoped>\n",
              "    .dataframe tbody tr th:only-of-type {\n",
              "        vertical-align: middle;\n",
              "    }\n",
              "\n",
              "    .dataframe tbody tr th {\n",
              "        vertical-align: top;\n",
              "    }\n",
              "\n",
              "    .dataframe thead th {\n",
              "        text-align: right;\n",
              "    }\n",
              "</style>\n",
              "<table border=\"1\" class=\"dataframe\">\n",
              "  <thead>\n",
              "    <tr style=\"text-align: right;\">\n",
              "      <th></th>\n",
              "      <th>Infected RBC</th>\n",
              "    </tr>\n",
              "  </thead>\n",
              "  <tbody>\n",
              "    <tr>\n",
              "      <th>0</th>\n",
              "      <td>0</td>\n",
              "    </tr>\n",
              "    <tr>\n",
              "      <th>1</th>\n",
              "      <td>2</td>\n",
              "    </tr>\n",
              "    <tr>\n",
              "      <th>2</th>\n",
              "      <td>2</td>\n",
              "    </tr>\n",
              "    <tr>\n",
              "      <th>3</th>\n",
              "      <td>1</td>\n",
              "    </tr>\n",
              "    <tr>\n",
              "      <th>4</th>\n",
              "      <td>0</td>\n",
              "    </tr>\n",
              "  </tbody>\n",
              "</table>\n",
              "</div>\n",
              "      <button class=\"colab-df-convert\" onclick=\"convertToInteractive('df-f20e29ea-847c-4eaa-a8d4-779e9e2c239b')\"\n",
              "              title=\"Convert this dataframe to an interactive table.\"\n",
              "              style=\"display:none;\">\n",
              "        \n",
              "  <svg xmlns=\"http://www.w3.org/2000/svg\" height=\"24px\"viewBox=\"0 0 24 24\"\n",
              "       width=\"24px\">\n",
              "    <path d=\"M0 0h24v24H0V0z\" fill=\"none\"/>\n",
              "    <path d=\"M18.56 5.44l.94 2.06.94-2.06 2.06-.94-2.06-.94-.94-2.06-.94 2.06-2.06.94zm-11 1L8.5 8.5l.94-2.06 2.06-.94-2.06-.94L8.5 2.5l-.94 2.06-2.06.94zm10 10l.94 2.06.94-2.06 2.06-.94-2.06-.94-.94-2.06-.94 2.06-2.06.94z\"/><path d=\"M17.41 7.96l-1.37-1.37c-.4-.4-.92-.59-1.43-.59-.52 0-1.04.2-1.43.59L10.3 9.45l-7.72 7.72c-.78.78-.78 2.05 0 2.83L4 21.41c.39.39.9.59 1.41.59.51 0 1.02-.2 1.41-.59l7.78-7.78 2.81-2.81c.8-.78.8-2.07 0-2.86zM5.41 20L4 18.59l7.72-7.72 1.47 1.35L5.41 20z\"/>\n",
              "  </svg>\n",
              "      </button>\n",
              "      \n",
              "  <style>\n",
              "    .colab-df-container {\n",
              "      display:flex;\n",
              "      flex-wrap:wrap;\n",
              "      gap: 12px;\n",
              "    }\n",
              "\n",
              "    .colab-df-convert {\n",
              "      background-color: #E8F0FE;\n",
              "      border: none;\n",
              "      border-radius: 50%;\n",
              "      cursor: pointer;\n",
              "      display: none;\n",
              "      fill: #1967D2;\n",
              "      height: 32px;\n",
              "      padding: 0 0 0 0;\n",
              "      width: 32px;\n",
              "    }\n",
              "\n",
              "    .colab-df-convert:hover {\n",
              "      background-color: #E2EBFA;\n",
              "      box-shadow: 0px 1px 2px rgba(60, 64, 67, 0.3), 0px 1px 3px 1px rgba(60, 64, 67, 0.15);\n",
              "      fill: #174EA6;\n",
              "    }\n",
              "\n",
              "    [theme=dark] .colab-df-convert {\n",
              "      background-color: #3B4455;\n",
              "      fill: #D2E3FC;\n",
              "    }\n",
              "\n",
              "    [theme=dark] .colab-df-convert:hover {\n",
              "      background-color: #434B5C;\n",
              "      box-shadow: 0px 1px 3px 1px rgba(0, 0, 0, 0.15);\n",
              "      filter: drop-shadow(0px 1px 2px rgba(0, 0, 0, 0.3));\n",
              "      fill: #FFFFFF;\n",
              "    }\n",
              "  </style>\n",
              "\n",
              "      <script>\n",
              "        const buttonEl =\n",
              "          document.querySelector('#df-f20e29ea-847c-4eaa-a8d4-779e9e2c239b button.colab-df-convert');\n",
              "        buttonEl.style.display =\n",
              "          google.colab.kernel.accessAllowed ? 'block' : 'none';\n",
              "\n",
              "        async function convertToInteractive(key) {\n",
              "          const element = document.querySelector('#df-f20e29ea-847c-4eaa-a8d4-779e9e2c239b');\n",
              "          const dataTable =\n",
              "            await google.colab.kernel.invokeFunction('convertToInteractive',\n",
              "                                                     [key], {});\n",
              "          if (!dataTable) return;\n",
              "\n",
              "          const docLinkHtml = 'Like what you see? Visit the ' +\n",
              "            '<a target=\"_blank\" href=https://colab.research.google.com/notebooks/data_table.ipynb>data table notebook</a>'\n",
              "            + ' to learn more about interactive tables.';\n",
              "          element.innerHTML = '';\n",
              "          dataTable['output_type'] = 'display_data';\n",
              "          await google.colab.output.renderOutput(dataTable, element);\n",
              "          const docLink = document.createElement('div');\n",
              "          docLink.innerHTML = docLinkHtml;\n",
              "          element.appendChild(docLink);\n",
              "        }\n",
              "      </script>\n",
              "    </div>\n",
              "  </div>\n",
              "  "
            ]
          },
          "metadata": {},
          "execution_count": 26
        }
      ]
    },
    {
      "cell_type": "code",
      "source": [
        "df = pd.merge(df1, df2, left_index=True, right_index=True)"
      ],
      "metadata": {
        "id": "ImDUqmLEV-1d"
      },
      "execution_count": null,
      "outputs": []
    },
    {
      "cell_type": "markdown",
      "source": [
        "loading test data"
      ],
      "metadata": {
        "id": "83APa_WAfAtC"
      }
    },
    {
      "cell_type": "code",
      "source": [
        "# read the xlsx file from Google Drive\n",
        "test_file_path_infected = '/content/drive/MyDrive/APS360/NIH-NLM-ThinBloodSmearsPf/test_infected_RBC.xlsx'\n",
        "\n",
        "# The dataframe store all the path, i.e. 'NIH-NLM-ThinBloodSmearsPf\\Polygon Set\\142C38P...'\n",
        "test_df2 = pd.read_excel(test_file_path_infected)"
      ],
      "metadata": {
        "id": "jRIZthfjcQcu"
      },
      "execution_count": null,
      "outputs": []
    },
    {
      "cell_type": "code",
      "source": [
        "test_df = pd.merge(test_df1, test_df2, left_index=True, right_index=True)"
      ],
      "metadata": {
        "id": "FNW0PM9Ccc4X"
      },
      "execution_count": null,
      "outputs": []
    },
    {
      "cell_type": "code",
      "source": [
        "df.head()"
      ],
      "metadata": {
        "colab": {
          "base_uri": "https://localhost:8080/",
          "height": 206
        },
        "id": "WvQ9infyWX-b",
        "outputId": "0b56cb84-0b2a-46b4-a685-b5020b61d571"
      },
      "execution_count": null,
      "outputs": [
        {
          "output_type": "execute_result",
          "data": {
            "text/plain": [
              "                                           File path  Infected RBC\n",
              "0  /content/drive/MyDrive/APS360/NIH-NLM-ThinBloo...            39\n",
              "1  /content/drive/MyDrive/APS360/NIH-NLM-ThinBloo...            27\n",
              "2  /content/drive/MyDrive/APS360/NIH-NLM-ThinBloo...            42\n",
              "3  /content/drive/MyDrive/APS360/NIH-NLM-ThinBloo...            37\n",
              "4  /content/drive/MyDrive/APS360/NIH-NLM-ThinBloo...            45"
            ],
            "text/html": [
              "\n",
              "  <div id=\"df-a7d3e585-5e95-4d2f-ba68-bd7c3095a74d\">\n",
              "    <div class=\"colab-df-container\">\n",
              "      <div>\n",
              "<style scoped>\n",
              "    .dataframe tbody tr th:only-of-type {\n",
              "        vertical-align: middle;\n",
              "    }\n",
              "\n",
              "    .dataframe tbody tr th {\n",
              "        vertical-align: top;\n",
              "    }\n",
              "\n",
              "    .dataframe thead th {\n",
              "        text-align: right;\n",
              "    }\n",
              "</style>\n",
              "<table border=\"1\" class=\"dataframe\">\n",
              "  <thead>\n",
              "    <tr style=\"text-align: right;\">\n",
              "      <th></th>\n",
              "      <th>File path</th>\n",
              "      <th>Infected RBC</th>\n",
              "    </tr>\n",
              "  </thead>\n",
              "  <tbody>\n",
              "    <tr>\n",
              "      <th>0</th>\n",
              "      <td>/content/drive/MyDrive/APS360/NIH-NLM-ThinBloo...</td>\n",
              "      <td>39</td>\n",
              "    </tr>\n",
              "    <tr>\n",
              "      <th>1</th>\n",
              "      <td>/content/drive/MyDrive/APS360/NIH-NLM-ThinBloo...</td>\n",
              "      <td>27</td>\n",
              "    </tr>\n",
              "    <tr>\n",
              "      <th>2</th>\n",
              "      <td>/content/drive/MyDrive/APS360/NIH-NLM-ThinBloo...</td>\n",
              "      <td>42</td>\n",
              "    </tr>\n",
              "    <tr>\n",
              "      <th>3</th>\n",
              "      <td>/content/drive/MyDrive/APS360/NIH-NLM-ThinBloo...</td>\n",
              "      <td>37</td>\n",
              "    </tr>\n",
              "    <tr>\n",
              "      <th>4</th>\n",
              "      <td>/content/drive/MyDrive/APS360/NIH-NLM-ThinBloo...</td>\n",
              "      <td>45</td>\n",
              "    </tr>\n",
              "  </tbody>\n",
              "</table>\n",
              "</div>\n",
              "      <button class=\"colab-df-convert\" onclick=\"convertToInteractive('df-a7d3e585-5e95-4d2f-ba68-bd7c3095a74d')\"\n",
              "              title=\"Convert this dataframe to an interactive table.\"\n",
              "              style=\"display:none;\">\n",
              "        \n",
              "  <svg xmlns=\"http://www.w3.org/2000/svg\" height=\"24px\"viewBox=\"0 0 24 24\"\n",
              "       width=\"24px\">\n",
              "    <path d=\"M0 0h24v24H0V0z\" fill=\"none\"/>\n",
              "    <path d=\"M18.56 5.44l.94 2.06.94-2.06 2.06-.94-2.06-.94-.94-2.06-.94 2.06-2.06.94zm-11 1L8.5 8.5l.94-2.06 2.06-.94-2.06-.94L8.5 2.5l-.94 2.06-2.06.94zm10 10l.94 2.06.94-2.06 2.06-.94-2.06-.94-.94-2.06-.94 2.06-2.06.94z\"/><path d=\"M17.41 7.96l-1.37-1.37c-.4-.4-.92-.59-1.43-.59-.52 0-1.04.2-1.43.59L10.3 9.45l-7.72 7.72c-.78.78-.78 2.05 0 2.83L4 21.41c.39.39.9.59 1.41.59.51 0 1.02-.2 1.41-.59l7.78-7.78 2.81-2.81c.8-.78.8-2.07 0-2.86zM5.41 20L4 18.59l7.72-7.72 1.47 1.35L5.41 20z\"/>\n",
              "  </svg>\n",
              "      </button>\n",
              "      \n",
              "  <style>\n",
              "    .colab-df-container {\n",
              "      display:flex;\n",
              "      flex-wrap:wrap;\n",
              "      gap: 12px;\n",
              "    }\n",
              "\n",
              "    .colab-df-convert {\n",
              "      background-color: #E8F0FE;\n",
              "      border: none;\n",
              "      border-radius: 50%;\n",
              "      cursor: pointer;\n",
              "      display: none;\n",
              "      fill: #1967D2;\n",
              "      height: 32px;\n",
              "      padding: 0 0 0 0;\n",
              "      width: 32px;\n",
              "    }\n",
              "\n",
              "    .colab-df-convert:hover {\n",
              "      background-color: #E2EBFA;\n",
              "      box-shadow: 0px 1px 2px rgba(60, 64, 67, 0.3), 0px 1px 3px 1px rgba(60, 64, 67, 0.15);\n",
              "      fill: #174EA6;\n",
              "    }\n",
              "\n",
              "    [theme=dark] .colab-df-convert {\n",
              "      background-color: #3B4455;\n",
              "      fill: #D2E3FC;\n",
              "    }\n",
              "\n",
              "    [theme=dark] .colab-df-convert:hover {\n",
              "      background-color: #434B5C;\n",
              "      box-shadow: 0px 1px 3px 1px rgba(0, 0, 0, 0.15);\n",
              "      filter: drop-shadow(0px 1px 2px rgba(0, 0, 0, 0.3));\n",
              "      fill: #FFFFFF;\n",
              "    }\n",
              "  </style>\n",
              "\n",
              "      <script>\n",
              "        const buttonEl =\n",
              "          document.querySelector('#df-a7d3e585-5e95-4d2f-ba68-bd7c3095a74d button.colab-df-convert');\n",
              "        buttonEl.style.display =\n",
              "          google.colab.kernel.accessAllowed ? 'block' : 'none';\n",
              "\n",
              "        async function convertToInteractive(key) {\n",
              "          const element = document.querySelector('#df-a7d3e585-5e95-4d2f-ba68-bd7c3095a74d');\n",
              "          const dataTable =\n",
              "            await google.colab.kernel.invokeFunction('convertToInteractive',\n",
              "                                                     [key], {});\n",
              "          if (!dataTable) return;\n",
              "\n",
              "          const docLinkHtml = 'Like what you see? Visit the ' +\n",
              "            '<a target=\"_blank\" href=https://colab.research.google.com/notebooks/data_table.ipynb>data table notebook</a>'\n",
              "            + ' to learn more about interactive tables.';\n",
              "          element.innerHTML = '';\n",
              "          dataTable['output_type'] = 'display_data';\n",
              "          await google.colab.output.renderOutput(dataTable, element);\n",
              "          const docLink = document.createElement('div');\n",
              "          docLink.innerHTML = docLinkHtml;\n",
              "          element.appendChild(docLink);\n",
              "        }\n",
              "      </script>\n",
              "    </div>\n",
              "  </div>\n",
              "  "
            ]
          },
          "metadata": {},
          "execution_count": 9
        }
      ]
    },
    {
      "cell_type": "code",
      "source": [
        "test_df.shape"
      ],
      "metadata": {
        "colab": {
          "base_uri": "https://localhost:8080/"
        },
        "id": "OZ80jCP9gito",
        "outputId": "b089f3bf-9b95-4f45-a740-8c321b59c8d8"
      },
      "execution_count": null,
      "outputs": [
        {
          "output_type": "execute_result",
          "data": {
            "text/plain": [
              "(165, 2)"
            ]
          },
          "metadata": {},
          "execution_count": 16
        }
      ]
    },
    {
      "cell_type": "markdown",
      "source": [
        "## Label, resize, save in array"
      ],
      "metadata": {
        "id": "Z3ZEl0XjQbyK"
      }
    },
    {
      "cell_type": "code",
      "source": [
        "data_list = []\n",
        "target_size = (224, 224)\n",
        "\n",
        "# iterate over rows and label images\n",
        "for i, row in df.iterrows():\n",
        "  # get the file path and infected RBC count\n",
        "\n",
        "  file_path = row['File path']\n",
        "  infected_rbc = row['Infected RBC']\n",
        "  \n",
        "  # open the image using PIL\n",
        "  image = Image.open(file_path)\n",
        "  image = image.resize(target_size)\n",
        "  img_arr = np.array(image)\n",
        "  \n",
        "  # label the image based on the infected RBC count\n",
        "  if infected_rbc == 0:\n",
        "    label = 0\n",
        "  elif infected_rbc > 0:\n",
        "    label = 1\n",
        "  \n",
        "  # append the image and label to the list\n",
        "  data = {'image': img_arr, 'label': label}\n",
        "  data_list.append(data)\n",
        "\n",
        "# convert the list to numpy array and save it\n",
        "np.save('data.npy', np.array(data_list))"
      ],
      "metadata": {
        "id": "VMJLlrZ5gOvq"
      },
      "execution_count": null,
      "outputs": []
    },
    {
      "cell_type": "markdown",
      "source": [
        "For test(below)"
      ],
      "metadata": {
        "id": "8WeMuScMcqLu"
      }
    },
    {
      "cell_type": "code",
      "source": [
        "test_data_list = []\n",
        "target_size = (224, 224)\n",
        "\n",
        "# iterate over rows and label images\n",
        "for i, row in test_df.iterrows():\n",
        "  # get the file path and infected RBC count\n",
        "\n",
        "  file_path = row['File path']\n",
        "  infected_rbc = row['Infected RBC']\n",
        "  \n",
        "  # open the image using PIL\n",
        "  image = Image.open(file_path)\n",
        "  image = image.resize(target_size)\n",
        "  img_arr = np.array(image)\n",
        "  \n",
        "  # label the image based on the infected RBC count\n",
        "  if infected_rbc == 0:\n",
        "    label = 0\n",
        "  elif infected_rbc > 0:\n",
        "    label = 1\n",
        "  \n",
        "  # append the image and label to the list\n",
        "  data = {'image': img_arr, 'label': label}\n",
        "  test_data_list.append(data)\n",
        "\n",
        "# convert the list to numpy array and save it\n",
        "np.save('test_data.npy', np.array(test_data_list))"
      ],
      "metadata": {
        "id": "H_a9h0k0cpqi"
      },
      "execution_count": null,
      "outputs": []
    },
    {
      "cell_type": "code",
      "source": [
        "data_list[0]"
      ],
      "metadata": {
        "colab": {
          "base_uri": "https://localhost:8080/"
        },
        "id": "4NwE52_7xqJI",
        "outputId": "63eef25b-44da-44dd-c285-b041e0c636fc"
      },
      "execution_count": null,
      "outputs": [
        {
          "output_type": "execute_result",
          "data": {
            "text/plain": [
              "{'image': array([[[1, 1, 1],\n",
              "         [1, 1, 1],\n",
              "         [1, 1, 1],\n",
              "         ...,\n",
              "         [1, 1, 2],\n",
              "         [1, 1, 3],\n",
              "         [1, 1, 2]],\n",
              " \n",
              "        [[1, 1, 1],\n",
              "         [1, 1, 1],\n",
              "         [1, 1, 1],\n",
              "         ...,\n",
              "         [0, 0, 1],\n",
              "         [1, 1, 1],\n",
              "         [1, 1, 2]],\n",
              " \n",
              "        [[1, 1, 1],\n",
              "         [1, 1, 1],\n",
              "         [1, 1, 1],\n",
              "         ...,\n",
              "         [1, 1, 1],\n",
              "         [0, 0, 1],\n",
              "         [1, 1, 1]],\n",
              " \n",
              "        ...,\n",
              " \n",
              "        [[1, 1, 1],\n",
              "         [1, 1, 1],\n",
              "         [1, 1, 1],\n",
              "         ...,\n",
              "         [1, 1, 1],\n",
              "         [1, 1, 1],\n",
              "         [1, 1, 1]],\n",
              " \n",
              "        [[0, 0, 0],\n",
              "         [1, 1, 1],\n",
              "         [1, 0, 1],\n",
              "         ...,\n",
              "         [1, 1, 1],\n",
              "         [1, 1, 1],\n",
              "         [1, 1, 1]],\n",
              " \n",
              "        [[1, 1, 1],\n",
              "         [1, 1, 1],\n",
              "         [1, 1, 1],\n",
              "         ...,\n",
              "         [1, 1, 1],\n",
              "         [1, 1, 1],\n",
              "         [2, 0, 1]]], dtype=uint8), 'label': 1}"
            ]
          },
          "metadata": {},
          "execution_count": 12
        }
      ]
    },
    {
      "cell_type": "markdown",
      "source": [
        "# Checking balance"
      ],
      "metadata": {
        "id": "EJZ-96Mm8bT3"
      }
    },
    {
      "cell_type": "code",
      "source": [
        "infected = 0\n",
        "uninfected = 0\n",
        "for data in data_list:\n",
        "  if data['label'] == 1:\n",
        "    infected += 1\n",
        "  if data['label'] == 0:\n",
        "    uninfected += 1\n",
        "total = infected+uninfected\n",
        "print(f'infected data {infected/total} and uninfected data {uninfected/total}')"
      ],
      "metadata": {
        "colab": {
          "base_uri": "https://localhost:8080/"
        },
        "id": "klEeUvM2zpRw",
        "outputId": "bccb39b2-b476-499c-9da0-0e95e678889e"
      },
      "execution_count": null,
      "outputs": [
        {
          "output_type": "stream",
          "name": "stdout",
          "text": [
            "infected data 0.71125 and uninfected data 0.28875\n"
          ]
        }
      ]
    },
    {
      "cell_type": "markdown",
      "source": [
        "for test"
      ],
      "metadata": {
        "id": "wLXPC136fqwx"
      }
    },
    {
      "cell_type": "code",
      "source": [
        "infected = 0\n",
        "uninfected = 0\n",
        "for data in test_data_list:\n",
        "  if data['label'] == 1:\n",
        "    infected += 1\n",
        "  if data['label'] == 0:\n",
        "    uninfected += 1\n",
        "total = infected+uninfected\n",
        "print(f'infected data {infected/total} and uninfected data {uninfected/total}')"
      ],
      "metadata": {
        "colab": {
          "base_uri": "https://localhost:8080/"
        },
        "id": "cCvrCNzDfsgW",
        "outputId": "ccc8c94c-c498-494c-a636-30fc2d9fa200"
      },
      "execution_count": null,
      "outputs": [
        {
          "output_type": "stream",
          "name": "stdout",
          "text": [
            "infected data 0.6060606060606061 and uninfected data 0.3939393939393939\n"
          ]
        }
      ]
    },
    {
      "cell_type": "markdown",
      "source": [
        "## Resampling"
      ],
      "metadata": {
        "id": "Ht2S7B0YQNGM"
      }
    },
    {
      "cell_type": "code",
      "source": [
        "# load the data from the saved numpy array\n",
        "data = np.load('data.npy', allow_pickle=True)\n",
        "\n",
        "# get the features (images) and labels\n",
        "image = np.array([d['image'].flatten() for d in data])\n",
        "label = np.array([d['label'] for d in data])\n",
        "\n",
        "# reshape X to a 2D array\n",
        "image = image.reshape(image.shape[0], -1)\n",
        "\n",
        "# apply RandomOverSampler to X and y\n",
        "ros = RandomOverSampler()\n",
        "image_resampled, label_resampled = ros.fit_resample(image, label)\n",
        "\n",
        "# reshape X_resampled back to 4D array\n",
        "image_resampled = image_resampled.reshape(image_resampled.shape[0], 224, 224, 3)\n",
        "\n",
        "# combine X_resampled and y_resampled into a list of dicts\n",
        "data_resampled = [{'image': image_resampled[i], 'label': label_resampled[i]} for i in range(len(label_resampled))]\n",
        "\n",
        "# save the resampled data to a new numpy array\n",
        "np.save('data_resampled.npy', np.array(data_resampled))"
      ],
      "metadata": {
        "id": "577qfIbMMyv5"
      },
      "execution_count": null,
      "outputs": []
    },
    {
      "cell_type": "code",
      "source": [
        "infected = 0\n",
        "uninfected = 0\n",
        "for data in data_resampled:\n",
        "  if data['label'] == 1:\n",
        "    infected += 1\n",
        "  if data['label'] == 0:\n",
        "    uninfected += 1\n",
        "total = infected+uninfected\n",
        "print(f'infected data {infected/total} and uninfected data {uninfected/total}')"
      ],
      "metadata": {
        "colab": {
          "base_uri": "https://localhost:8080/"
        },
        "id": "Hk10knDoNNTu",
        "outputId": "743b5528-4ea1-44f5-d34d-4ab961eccbdd"
      },
      "execution_count": null,
      "outputs": [
        {
          "output_type": "stream",
          "name": "stdout",
          "text": [
            "infected data 0.5 and uninfected data 0.5\n"
          ]
        }
      ]
    },
    {
      "cell_type": "code",
      "source": [
        "total"
      ],
      "metadata": {
        "colab": {
          "base_uri": "https://localhost:8080/"
        },
        "id": "oBQdOCA8jhW3",
        "outputId": "c8c134e1-f4b2-4344-cefd-968cadb22abc"
      },
      "execution_count": null,
      "outputs": [
        {
          "output_type": "execute_result",
          "data": {
            "text/plain": [
              "1138"
            ]
          },
          "metadata": {},
          "execution_count": 16
        }
      ]
    },
    {
      "cell_type": "markdown",
      "source": [
        "for test"
      ],
      "metadata": {
        "id": "8yUEooZQf3NJ"
      }
    },
    {
      "cell_type": "code",
      "source": [
        "# load the data from the saved numpy array\n",
        "data = np.load('test_data.npy', allow_pickle=True)\n",
        "\n",
        "# get the features (images) and labels\n",
        "image = np.array([d['image'].flatten() for d in data])\n",
        "label = np.array([d['label'] for d in data])\n",
        "\n",
        "# reshape X to a 2D array\n",
        "image = image.reshape(image.shape[0], -1)\n",
        "\n",
        "# apply RandomOverSampler to X and y\n",
        "ros = RandomOverSampler()\n",
        "image_resampled, label_resampled = ros.fit_resample(image, label)\n",
        "\n",
        "# reshape X_resampled back to 4D array\n",
        "image_resampled = image_resampled.reshape(image_resampled.shape[0], 224, 224, 3)\n",
        "\n",
        "# combine X_resampled and y_resampled into a list of dicts\n",
        "test_data_resampled = [{'image': image_resampled[i], 'label': label_resampled[i]} for i in range(len(label_resampled))]\n",
        "\n",
        "# save the resampled data to a new numpy array\n",
        "np.save('test_data_resampled.npy', np.array(test_data_resampled))"
      ],
      "metadata": {
        "id": "EnDTi1Quf2gf"
      },
      "execution_count": null,
      "outputs": []
    },
    {
      "cell_type": "code",
      "source": [
        "infected = 0\n",
        "uninfected = 0\n",
        "for data in test_data_resampled:\n",
        "  if data['label'] == 1:\n",
        "    infected += 1\n",
        "  if data['label'] == 0:\n",
        "    uninfected += 1\n",
        "total = infected+uninfected\n",
        "print(f'infected data {infected/total} and uninfected data {uninfected/total}')"
      ],
      "metadata": {
        "colab": {
          "base_uri": "https://localhost:8080/"
        },
        "id": "tMkSdDi-gFnV",
        "outputId": "1d40a425-37ed-4d38-d839-55d267a3d911"
      },
      "execution_count": null,
      "outputs": [
        {
          "output_type": "stream",
          "name": "stdout",
          "text": [
            "infected data 0.5 and uninfected data 0.5\n"
          ]
        }
      ]
    },
    {
      "cell_type": "markdown",
      "source": [
        "# Normalizing"
      ],
      "metadata": {
        "id": "oImGtapqeBam"
      }
    },
    {
      "cell_type": "code",
      "source": [
        "# Define the normalization function\n",
        "def normalize(image):\n",
        "  return (image - np.min(image)) / (np.max(image) - np.min(image))\n",
        "\n",
        "# Normalize the data\n",
        "normalized_data = []\n",
        "for data in data_resampled:\n",
        "  normalized_image = normalize(data['image'])\n",
        "  normalized_data.append({'image': normalized_image, 'label': data['label']})\n",
        "\n",
        "# Save the normalized data as a .npy file\n",
        "np.save('normalized_data.npy', normalized_data)"
      ],
      "metadata": {
        "id": "C5aVsu02fQcy"
      },
      "execution_count": null,
      "outputs": []
    },
    {
      "cell_type": "code",
      "source": [
        "len(normalized_data)"
      ],
      "metadata": {
        "colab": {
          "base_uri": "https://localhost:8080/"
        },
        "id": "omKs_VeShQVs",
        "outputId": "ee14e4e1-38f9-4fdc-aeac-fde820239be2"
      },
      "execution_count": null,
      "outputs": [
        {
          "output_type": "execute_result",
          "data": {
            "text/plain": [
              "1138"
            ]
          },
          "metadata": {},
          "execution_count": 18
        }
      ]
    },
    {
      "cell_type": "markdown",
      "source": [
        "for test\n"
      ],
      "metadata": {
        "id": "jGYwKJcjgNTN"
      }
    },
    {
      "cell_type": "code",
      "source": [
        "# Define the normalization function\n",
        "def normalize(image):\n",
        "  return (image - np.min(image)) / (np.max(image) - np.min(image))\n",
        "\n",
        "# Normalize the data\n",
        "test_normalized_data = []\n",
        "for data in test_data_resampled:\n",
        "  normalized_image = normalize(data['image'])\n",
        "  test_normalized_data.append({'image': normalized_image, 'label': data['label']})\n",
        "\n",
        "# Save the normalized data as a .npy file\n",
        "np.save('test_normalized_data.npy', test_normalized_data)"
      ],
      "metadata": {
        "id": "G_dU5qopgLlo"
      },
      "execution_count": null,
      "outputs": []
    },
    {
      "cell_type": "code",
      "source": [
        "len(test_normalized_data)"
      ],
      "metadata": {
        "colab": {
          "base_uri": "https://localhost:8080/"
        },
        "id": "W4cf6OEZgLnq",
        "outputId": "c2bc72a1-0fca-4a5c-998e-8d9de3693610"
      },
      "execution_count": null,
      "outputs": [
        {
          "output_type": "execute_result",
          "data": {
            "text/plain": [
              "200"
            ]
          },
          "metadata": {},
          "execution_count": 38
        }
      ]
    },
    {
      "cell_type": "markdown",
      "source": [
        "Save test data"
      ],
      "metadata": {
        "id": "l5MXFsQ-gsCo"
      }
    },
    {
      "cell_type": "code",
      "source": [
        "# get the features (images) and labels\n",
        "X_test = np.array([d['image'] for d in test_normalized_data])\n",
        "y_test = np.array([d['label'] for d in test_normalized_data])\n",
        "\n",
        "\n",
        "np.save('/content/drive/MyDrive/APS360/NIH-NLM-ThinBloodSmearsPf/x_test_data.npy', X_test)\n",
        "\n",
        "# Save y_train\n",
        "np.save('/content/drive/MyDrive/APS360/NIH-NLM-ThinBloodSmearsPf/y_test_data.npy', y_test)"
      ],
      "metadata": {
        "id": "XhUSX1rDguK6"
      },
      "execution_count": null,
      "outputs": []
    },
    {
      "cell_type": "markdown",
      "source": [
        "# Splitting"
      ],
      "metadata": {
        "id": "RaRBEnGCQn2L"
      }
    },
    {
      "cell_type": "code",
      "source": [
        "# get the features (images) and labels\n",
        "X = np.array([d['image'] for d in normalized_data])\n",
        "y = np.array([d['label'] for d in normalized_data])\n",
        "\n",
        "# Split your data into training, validation and testing sets\n",
        "X_train, X_val, y_train, y_val = train_test_split(X, y, test_size=0.3, random_state=66)"
      ],
      "metadata": {
        "id": "mESz3hd-g_bM"
      },
      "execution_count": null,
      "outputs": []
    },
    {
      "cell_type": "code",
      "source": [
        "print(len(X_train),len(X_val))"
      ],
      "metadata": {
        "colab": {
          "base_uri": "https://localhost:8080/"
        },
        "id": "HFe6gJgfhwJ8",
        "outputId": "1cc84e8f-c4da-4d0a-a745-b0d143d06787"
      },
      "execution_count": null,
      "outputs": [
        {
          "output_type": "stream",
          "name": "stdout",
          "text": [
            "796 342\n"
          ]
        }
      ]
    },
    {
      "cell_type": "code",
      "source": [
        "X_train"
      ],
      "metadata": {
        "id": "b4uLvB4gkuM5",
        "outputId": "cf49d2be-50b5-430d-8ad8-c632eb38d204",
        "colab": {
          "base_uri": "https://localhost:8080/"
        }
      },
      "execution_count": null,
      "outputs": [
        {
          "output_type": "execute_result",
          "data": {
            "text/plain": [
              "array([[[[0.00425532, 0.00425532, 0.00851064],\n",
              "         [0.        , 0.        , 0.        ],\n",
              "         [0.00425532, 0.00425532, 0.00425532],\n",
              "         ...,\n",
              "         [0.00425532, 0.00425532, 0.00851064],\n",
              "         [0.        , 0.        , 0.00851064],\n",
              "         [0.00425532, 0.00425532, 0.00425532]],\n",
              "\n",
              "        [[0.00425532, 0.00425532, 0.00425532],\n",
              "         [0.00425532, 0.00425532, 0.00425532],\n",
              "         [0.00425532, 0.00425532, 0.00425532],\n",
              "         ...,\n",
              "         [0.00425532, 0.00425532, 0.00851064],\n",
              "         [0.        , 0.        , 0.00425532],\n",
              "         [0.00425532, 0.00425532, 0.00425532]],\n",
              "\n",
              "        [[0.00425532, 0.00425532, 0.00425532],\n",
              "         [0.00425532, 0.00425532, 0.00425532],\n",
              "         [0.00425532, 0.00425532, 0.00425532],\n",
              "         ...,\n",
              "         [0.00425532, 0.00425532, 0.00851064],\n",
              "         [0.00425532, 0.00425532, 0.00851064],\n",
              "         [0.00425532, 0.00425532, 0.00425532]],\n",
              "\n",
              "        ...,\n",
              "\n",
              "        [[0.        , 0.        , 0.        ],\n",
              "         [0.00425532, 0.00425532, 0.00425532],\n",
              "         [0.00425532, 0.00425532, 0.00425532],\n",
              "         ...,\n",
              "         [0.00425532, 0.00425532, 0.00425532],\n",
              "         [0.00425532, 0.00425532, 0.00425532],\n",
              "         [0.00425532, 0.00425532, 0.00425532]],\n",
              "\n",
              "        [[0.00425532, 0.00425532, 0.00425532],\n",
              "         [0.        , 0.        , 0.        ],\n",
              "         [0.        , 0.        , 0.        ],\n",
              "         ...,\n",
              "         [0.00425532, 0.00425532, 0.00425532],\n",
              "         [0.        , 0.        , 0.        ],\n",
              "         [0.00425532, 0.00425532, 0.00425532]],\n",
              "\n",
              "        [[0.        , 0.        , 0.        ],\n",
              "         [0.        , 0.        , 0.        ],\n",
              "         [0.00425532, 0.00425532, 0.00425532],\n",
              "         ...,\n",
              "         [0.00425532, 0.00425532, 0.00425532],\n",
              "         [0.        , 0.        , 0.        ],\n",
              "         [0.00425532, 0.00425532, 0.00425532]]],\n",
              "\n",
              "\n",
              "       [[[0.00446429, 0.00446429, 0.00446429],\n",
              "         [0.00446429, 0.00446429, 0.00446429],\n",
              "         [0.00446429, 0.00446429, 0.00446429],\n",
              "         ...,\n",
              "         [0.00446429, 0.00446429, 0.00446429],\n",
              "         [0.        , 0.        , 0.        ],\n",
              "         [0.00446429, 0.00446429, 0.00446429]],\n",
              "\n",
              "        [[0.00446429, 0.00446429, 0.00446429],\n",
              "         [0.00446429, 0.00446429, 0.00446429],\n",
              "         [0.        , 0.        , 0.        ],\n",
              "         ...,\n",
              "         [0.00446429, 0.00446429, 0.00446429],\n",
              "         [0.        , 0.        , 0.        ],\n",
              "         [0.        , 0.        , 0.        ]],\n",
              "\n",
              "        [[0.00446429, 0.00446429, 0.00446429],\n",
              "         [0.00446429, 0.00446429, 0.00446429],\n",
              "         [0.        , 0.        , 0.        ],\n",
              "         ...,\n",
              "         [0.00446429, 0.00446429, 0.00446429],\n",
              "         [0.00446429, 0.00446429, 0.00446429],\n",
              "         [0.00446429, 0.00446429, 0.00446429]],\n",
              "\n",
              "        ...,\n",
              "\n",
              "        [[0.00892857, 0.        , 0.00446429],\n",
              "         [0.00446429, 0.00446429, 0.00446429],\n",
              "         [0.        , 0.        , 0.        ],\n",
              "         ...,\n",
              "         [0.00446429, 0.00446429, 0.00446429],\n",
              "         [0.00446429, 0.00446429, 0.00446429],\n",
              "         [0.00892857, 0.        , 0.00446429]],\n",
              "\n",
              "        [[0.00446429, 0.        , 0.00446429],\n",
              "         [0.00446429, 0.        , 0.00446429],\n",
              "         [0.00446429, 0.00446429, 0.00446429],\n",
              "         ...,\n",
              "         [0.00446429, 0.00446429, 0.00446429],\n",
              "         [0.00446429, 0.00446429, 0.00446429],\n",
              "         [0.00892857, 0.        , 0.00446429]],\n",
              "\n",
              "        [[0.00446429, 0.        , 0.        ],\n",
              "         [0.00446429, 0.00446429, 0.00446429],\n",
              "         [0.00446429, 0.00446429, 0.00446429],\n",
              "         ...,\n",
              "         [0.00446429, 0.00446429, 0.00446429],\n",
              "         [0.00446429, 0.00446429, 0.00446429],\n",
              "         [0.00892857, 0.        , 0.00446429]]],\n",
              "\n",
              "\n",
              "       [[[0.00416667, 0.00416667, 0.00416667],\n",
              "         [0.00416667, 0.00416667, 0.00416667],\n",
              "         [0.00416667, 0.00416667, 0.00416667],\n",
              "         ...,\n",
              "         [0.00416667, 0.00416667, 0.00416667],\n",
              "         [0.        , 0.        , 0.        ],\n",
              "         [0.        , 0.        , 0.        ]],\n",
              "\n",
              "        [[0.00416667, 0.00416667, 0.00416667],\n",
              "         [0.00416667, 0.00416667, 0.00416667],\n",
              "         [0.00416667, 0.00416667, 0.00416667],\n",
              "         ...,\n",
              "         [0.00416667, 0.00416667, 0.00416667],\n",
              "         [0.00416667, 0.00416667, 0.00416667],\n",
              "         [0.00416667, 0.00416667, 0.00416667]],\n",
              "\n",
              "        [[0.00416667, 0.00416667, 0.00416667],\n",
              "         [0.00416667, 0.00416667, 0.00416667],\n",
              "         [0.00416667, 0.00416667, 0.00416667],\n",
              "         ...,\n",
              "         [0.00416667, 0.00416667, 0.00416667],\n",
              "         [0.00416667, 0.00416667, 0.00416667],\n",
              "         [0.00416667, 0.00416667, 0.00416667]],\n",
              "\n",
              "        ...,\n",
              "\n",
              "        [[0.00416667, 0.00416667, 0.00416667],\n",
              "         [0.        , 0.        , 0.        ],\n",
              "         [0.00416667, 0.00416667, 0.00416667],\n",
              "         ...,\n",
              "         [0.00416667, 0.00416667, 0.00416667],\n",
              "         [0.00416667, 0.00416667, 0.00416667],\n",
              "         [0.00416667, 0.00416667, 0.00416667]],\n",
              "\n",
              "        [[0.00416667, 0.00416667, 0.00416667],\n",
              "         [0.        , 0.        , 0.        ],\n",
              "         [0.00416667, 0.00416667, 0.00416667],\n",
              "         ...,\n",
              "         [0.00416667, 0.00416667, 0.00416667],\n",
              "         [0.00416667, 0.00416667, 0.00416667],\n",
              "         [0.00416667, 0.00416667, 0.00416667]],\n",
              "\n",
              "        [[0.00416667, 0.00416667, 0.00416667],\n",
              "         [0.00416667, 0.00416667, 0.00416667],\n",
              "         [0.00416667, 0.00416667, 0.00416667],\n",
              "         ...,\n",
              "         [0.00416667, 0.00416667, 0.00416667],\n",
              "         [0.00416667, 0.00416667, 0.00416667],\n",
              "         [0.00416667, 0.00416667, 0.00833333]]],\n",
              "\n",
              "\n",
              "       ...,\n",
              "\n",
              "\n",
              "       [[[0.00440529, 0.00440529, 0.00440529],\n",
              "         [0.00440529, 0.00440529, 0.00440529],\n",
              "         [0.00440529, 0.00440529, 0.00440529],\n",
              "         ...,\n",
              "         [0.00440529, 0.00440529, 0.00440529],\n",
              "         [0.00440529, 0.00440529, 0.00440529],\n",
              "         [0.00440529, 0.00440529, 0.00440529]],\n",
              "\n",
              "        [[0.00440529, 0.00440529, 0.00440529],\n",
              "         [0.00440529, 0.00440529, 0.00440529],\n",
              "         [0.00440529, 0.00440529, 0.00440529],\n",
              "         ...,\n",
              "         [0.        , 0.        , 0.        ],\n",
              "         [0.00440529, 0.00440529, 0.00440529],\n",
              "         [0.        , 0.        , 0.        ]],\n",
              "\n",
              "        [[0.00440529, 0.00440529, 0.00440529],\n",
              "         [0.00440529, 0.00440529, 0.00440529],\n",
              "         [0.00440529, 0.00440529, 0.00440529],\n",
              "         ...,\n",
              "         [0.        , 0.        , 0.        ],\n",
              "         [0.00440529, 0.00440529, 0.00440529],\n",
              "         [0.00440529, 0.00440529, 0.00440529]],\n",
              "\n",
              "        ...,\n",
              "\n",
              "        [[0.00440529, 0.00440529, 0.00440529],\n",
              "         [0.00440529, 0.00440529, 0.00440529],\n",
              "         [0.00440529, 0.00440529, 0.00440529],\n",
              "         ...,\n",
              "         [0.00440529, 0.00440529, 0.00440529],\n",
              "         [0.00440529, 0.00440529, 0.00881057],\n",
              "         [0.00440529, 0.00440529, 0.01321586]],\n",
              "\n",
              "        [[0.00440529, 0.00440529, 0.00440529],\n",
              "         [0.00440529, 0.00440529, 0.00440529],\n",
              "         [0.00440529, 0.00440529, 0.00440529],\n",
              "         ...,\n",
              "         [0.00440529, 0.00440529, 0.00440529],\n",
              "         [0.00440529, 0.00440529, 0.00440529],\n",
              "         [0.00440529, 0.00440529, 0.00881057]],\n",
              "\n",
              "        [[0.00440529, 0.00440529, 0.00440529],\n",
              "         [0.00440529, 0.00440529, 0.00440529],\n",
              "         [0.00440529, 0.00440529, 0.00440529],\n",
              "         ...,\n",
              "         [0.00440529, 0.00440529, 0.00440529],\n",
              "         [0.00440529, 0.00440529, 0.00440529],\n",
              "         [0.00440529, 0.00440529, 0.00440529]]],\n",
              "\n",
              "\n",
              "       [[[0.00395257, 0.00395257, 0.00395257],\n",
              "         [0.00395257, 0.00395257, 0.00395257],\n",
              "         [0.        , 0.        , 0.        ],\n",
              "         ...,\n",
              "         [0.00395257, 0.00395257, 0.00395257],\n",
              "         [0.00395257, 0.00395257, 0.00395257],\n",
              "         [0.00395257, 0.00395257, 0.00395257]],\n",
              "\n",
              "        [[0.00395257, 0.00395257, 0.00395257],\n",
              "         [0.        , 0.        , 0.        ],\n",
              "         [0.        , 0.        , 0.        ],\n",
              "         ...,\n",
              "         [0.00395257, 0.00395257, 0.00395257],\n",
              "         [0.        , 0.        , 0.        ],\n",
              "         [0.00395257, 0.00395257, 0.00395257]],\n",
              "\n",
              "        [[0.00395257, 0.00395257, 0.00395257],\n",
              "         [0.00395257, 0.00395257, 0.00395257],\n",
              "         [0.        , 0.        , 0.        ],\n",
              "         ...,\n",
              "         [0.        , 0.        , 0.        ],\n",
              "         [0.        , 0.        , 0.        ],\n",
              "         [0.        , 0.        , 0.        ]],\n",
              "\n",
              "        ...,\n",
              "\n",
              "        [[0.00395257, 0.00395257, 0.00395257],\n",
              "         [0.00395257, 0.00395257, 0.00395257],\n",
              "         [0.00395257, 0.00395257, 0.00395257],\n",
              "         ...,\n",
              "         [0.00395257, 0.00395257, 0.00790514],\n",
              "         [0.00790514, 0.        , 0.00790514],\n",
              "         [0.00790514, 0.        , 0.01185771]],\n",
              "\n",
              "        [[0.00395257, 0.00395257, 0.00395257],\n",
              "         [0.        , 0.        , 0.        ],\n",
              "         [0.00395257, 0.00395257, 0.00395257],\n",
              "         ...,\n",
              "         [0.00395257, 0.00395257, 0.00790514],\n",
              "         [0.00790514, 0.        , 0.00790514],\n",
              "         [0.00790514, 0.        , 0.01185771]],\n",
              "\n",
              "        [[0.00790514, 0.        , 0.00395257],\n",
              "         [0.00395257, 0.00395257, 0.00395257],\n",
              "         [0.00395257, 0.00395257, 0.00395257],\n",
              "         ...,\n",
              "         [0.00395257, 0.00395257, 0.00790514],\n",
              "         [0.00790514, 0.00395257, 0.00790514],\n",
              "         [0.00790514, 0.        , 0.01185771]]],\n",
              "\n",
              "\n",
              "       [[[0.00442478, 0.00442478, 0.00442478],\n",
              "         [0.00442478, 0.00442478, 0.00442478],\n",
              "         [0.00442478, 0.00442478, 0.00442478],\n",
              "         ...,\n",
              "         [0.00442478, 0.00442478, 0.00442478],\n",
              "         [0.00442478, 0.00442478, 0.00442478],\n",
              "         [0.00442478, 0.00442478, 0.00442478]],\n",
              "\n",
              "        [[0.00442478, 0.00442478, 0.00442478],\n",
              "         [0.00442478, 0.00442478, 0.00442478],\n",
              "         [0.00442478, 0.00442478, 0.00442478],\n",
              "         ...,\n",
              "         [0.00442478, 0.00442478, 0.00442478],\n",
              "         [0.00442478, 0.00442478, 0.00442478],\n",
              "         [0.00442478, 0.00442478, 0.00442478]],\n",
              "\n",
              "        [[0.00442478, 0.00442478, 0.00442478],\n",
              "         [0.00442478, 0.00442478, 0.00442478],\n",
              "         [0.00442478, 0.00442478, 0.00442478],\n",
              "         ...,\n",
              "         [0.00442478, 0.00442478, 0.00442478],\n",
              "         [0.00442478, 0.00442478, 0.00442478],\n",
              "         [0.        , 0.        , 0.        ]],\n",
              "\n",
              "        ...,\n",
              "\n",
              "        [[0.00884956, 0.        , 0.00442478],\n",
              "         [0.00442478, 0.00442478, 0.00442478],\n",
              "         [0.00442478, 0.00442478, 0.00442478],\n",
              "         ...,\n",
              "         [0.00442478, 0.00442478, 0.00442478],\n",
              "         [0.00442478, 0.00442478, 0.00442478],\n",
              "         [0.00442478, 0.00442478, 0.00442478]],\n",
              "\n",
              "        [[0.00442478, 0.00442478, 0.00442478],\n",
              "         [0.00442478, 0.00442478, 0.00442478],\n",
              "         [0.00442478, 0.00442478, 0.00442478],\n",
              "         ...,\n",
              "         [0.00442478, 0.00442478, 0.00442478],\n",
              "         [0.00442478, 0.00442478, 0.00442478],\n",
              "         [0.00442478, 0.00442478, 0.00442478]],\n",
              "\n",
              "        [[0.00442478, 0.00442478, 0.00442478],\n",
              "         [0.00442478, 0.00442478, 0.00442478],\n",
              "         [0.00442478, 0.00442478, 0.00442478],\n",
              "         ...,\n",
              "         [0.00442478, 0.00442478, 0.00442478],\n",
              "         [0.00442478, 0.00442478, 0.00442478],\n",
              "         [0.00442478, 0.00442478, 0.00442478]]]])"
            ]
          },
          "metadata": {},
          "execution_count": 21
        }
      ]
    },
    {
      "cell_type": "code",
      "source": [
        "import matplotlib.pyplot as plt\n",
        "\n",
        "# Access the first image in the training set\n",
        "image = X_train[0]\n",
        "label = y_train[0]\n",
        "\n",
        "# Visualize the image\n",
        "plt.imshow(image)\n",
        "\n",
        "# Show the plot\n",
        "plt.show()\n",
        "print(label)"
      ],
      "metadata": {
        "colab": {
          "base_uri": "https://localhost:8080/"
        },
        "id": "5G6621nIkFBZ",
        "outputId": "8ae8db35-8319-4fa1-b4d7-97a8579b13de"
      },
      "execution_count": null,
      "outputs": [
        {
          "output_type": "display_data",
          "data": {
            "text/plain": [
              "<Figure size 432x288 with 1 Axes>"
            ],
            "image/png": "[encoded data removed]"
          },
          "metadata": {
            "needs_background": "light"
          }
        },
        {
          "output_type": "stream",
          "name": "stdout",
          "text": [
            "1\n"
          ]
        }
      ]
    },
    {
      "cell_type": "code",
      "source": [],
      "metadata": {
        "id": "reCzT8eoOUNj"
      },
      "execution_count": null,
      "outputs": []
    },
    {
      "cell_type": "code",
      "source": [],
      "metadata": {
        "id": "ClVbfecCOU9J"
      },
      "execution_count": null,
      "outputs": []
    },
    {
      "cell_type": "markdown",
      "source": [
        "# Augmentation"
      ],
      "metadata": {
        "id": "RFlNnK71DALF"
      }
    },
    {
      "cell_type": "code",
      "source": [
        "# create an ImageDataGenerator instance with desired data augmentation parameters\n",
        "datagen = ImageDataGenerator(\n",
        "    rotation_range=25,\n",
        "    horizontal_flip=True\n",
        ")\n",
        "\n",
        "# compute internal statistics of the data\n",
        "datagen.fit(X_train)\n",
        "\n",
        "# generate augmented data in batches\n",
        "augmented_data_generator = datagen.flow(X_train, y_train, batch_size=32)\n",
        "\n",
        "# iterate over batches of augmented data and add them to the original dataset\n",
        "for x_batch, y_batch in augmented_data_generator:\n",
        "  X_train = np.concatenate([X_train, x_batch], axis=0)\n",
        "  y_train = np.concatenate([y_train, y_batch], axis=0)\n",
        "  \n",
        "  # break the loop if we have reached the desired number of samples\n",
        "  if len(X_train) >= 1348:\n",
        "      break"
      ],
      "metadata": {
        "id": "_d9qz2b9CKv5"
      },
      "execution_count": null,
      "outputs": []
    },
    {
      "cell_type": "code",
      "source": [
        "len(X_train)"
      ],
      "metadata": {
        "colab": {
          "base_uri": "https://localhost:8080/"
        },
        "id": "vnW0mQjBMG02",
        "outputId": "9080d600-6c60-4cfc-f979-bdb74073d826"
      },
      "execution_count": null,
      "outputs": [
        {
          "output_type": "execute_result",
          "data": {
            "text/plain": [
              "1372"
            ]
          },
          "metadata": {},
          "execution_count": 25
        }
      ]
    },
    {
      "cell_type": "code",
      "source": [
        "y_train"
      ],
      "metadata": {
        "colab": {
          "base_uri": "https://localhost:8080/"
        },
        "id": "YyUpC9ROjdkO",
        "outputId": "5a1ce2a8-7d00-4a58-fe29-d5b5e63958b2"
      },
      "execution_count": null,
      "outputs": [
        {
          "output_type": "execute_result",
          "data": {
            "text/plain": [
              "array([1, 0, 1, 1, 0, 0, 0, 1, 0, 0, 1, 0, 1, 1, 0, 0, 0, 1, 0, 1, 1, 1,\n",
              "       1, 0, 1, 1, 0, 1, 1, 0, 0, 1, 1, 0, 0, 0, 1, 1, 0, 0, 0, 1, 1, 0,\n",
              "       1, 1, 1, 1, 0, 0, 1, 1, 0, 0, 0, 0, 0, 0, 1, 1, 0, 1, 1, 1, 1, 1,\n",
              "       1, 1, 1, 1, 0, 1, 0, 0, 0, 1, 0, 0, 1, 0, 0, 0, 1, 1, 1, 1, 0, 1,\n",
              "       1, 0, 1, 0, 1, 1, 0, 1, 1, 1, 0, 1, 0, 0, 1, 0, 1, 1, 0, 0, 0, 1,\n",
              "       1, 1, 0, 1, 1, 1, 0, 0, 0, 1, 0, 0, 1, 0, 1, 0, 0, 1, 1, 0, 1, 1,\n",
              "       0, 0, 0, 1, 1, 1, 0, 1, 1, 0, 0, 0, 1, 0, 0, 0, 0, 1, 0, 1, 0, 1,\n",
              "       1, 1, 0, 1, 0, 0, 1, 0, 1, 1, 0, 0, 0, 0, 1, 1, 1, 0, 1, 0, 1, 0,\n",
              "       1, 0, 0, 1, 0, 1, 1, 1, 1, 1, 0, 0, 1, 0, 0, 0, 1, 0, 0, 0, 0, 1,\n",
              "       1, 1, 1, 1, 1, 0, 0, 0, 1, 1, 0, 1, 0, 1, 0, 1, 0, 1, 0, 0, 1, 0,\n",
              "       1, 1, 0, 0, 1, 1, 1, 0, 1, 0, 0, 1, 1, 0, 1, 0, 1, 1, 1, 0, 0, 1,\n",
              "       1, 0, 1, 1, 1, 1, 0, 1, 1, 1, 0, 0, 0, 1, 0, 0, 0, 0, 0, 1, 0, 0,\n",
              "       1, 1, 0, 0, 0, 0, 1, 1, 0, 0, 1, 0, 1, 1, 0, 1, 0, 1, 0, 0, 1, 0,\n",
              "       0, 0, 1, 1, 0, 0, 1, 0, 0, 1, 1, 1, 1, 0, 0, 0, 1, 0, 1, 1, 1, 0,\n",
              "       1, 1, 0, 1, 0, 0, 0, 0, 0, 0, 0, 1, 0, 1, 0, 1, 0, 1, 0, 1, 1, 1,\n",
              "       0, 0, 1, 0, 1, 1, 1, 0, 0, 0, 1, 0, 1, 0, 0, 1, 0, 0, 0, 0, 0, 1,\n",
              "       0, 0, 0, 0, 1, 0, 1, 1, 0, 0, 0, 0, 0, 1, 1, 0, 1, 0, 0, 0, 1, 1,\n",
              "       1, 1, 1, 1, 0, 1, 1, 1, 0, 1, 1, 1, 1, 0, 1, 1, 1, 0, 1, 0, 0, 0,\n",
              "       1, 1, 0, 0, 1, 0, 1, 1, 1, 0, 0, 0, 1, 1, 1, 1, 1, 0, 1, 0, 1, 1,\n",
              "       1, 0, 1, 0, 1, 1, 0, 0, 1, 0, 1, 0, 0, 1, 0, 1, 1, 1, 0, 1, 0, 0,\n",
              "       0, 0, 0, 0, 0, 1, 1, 1, 0, 0, 0, 1, 0, 0, 1, 0, 1, 1, 1, 0, 0, 0,\n",
              "       1, 0, 1, 0, 0, 0, 1, 0, 1, 0, 1, 1, 1, 1, 0, 0, 1, 1, 0, 0, 1, 1,\n",
              "       1, 0, 1, 1, 0, 1, 1, 1, 1, 0, 1, 1, 0, 0, 0, 0, 0, 0, 1, 0, 1, 0,\n",
              "       1, 1, 0, 1, 0, 0, 0, 1, 0, 1, 0, 0, 0, 0, 1, 1, 1, 1, 0, 1, 0, 1,\n",
              "       0, 1, 0, 0, 1, 1, 1, 1, 0, 0, 1, 1, 0, 1, 1, 1, 0, 0, 0, 1, 0, 0,\n",
              "       0, 1, 0, 0, 1, 1, 0, 0, 0, 1, 1, 1, 1, 1, 1, 1, 0, 1, 1, 0, 0, 1,\n",
              "       0, 1, 0, 1, 0, 0, 1, 1, 0, 1, 1, 0, 0, 1, 0, 0, 1, 0, 1, 1, 1, 1,\n",
              "       0, 0, 0, 1, 0, 0, 1, 1, 0, 0, 1, 0, 0, 0, 0, 0, 0, 0, 1, 1, 1, 0,\n",
              "       1, 1, 1, 1, 1, 1, 1, 1, 1, 1, 1, 1, 1, 0, 1, 0, 0, 0, 0, 1, 1, 1,\n",
              "       1, 1, 1, 1, 0, 1, 0, 1, 1, 1, 0, 0, 1, 0, 0, 0, 1, 0, 0, 0, 0, 0,\n",
              "       0, 1, 1, 1, 0, 1, 1, 1, 1, 1, 1, 1, 1, 1, 0, 0, 0, 0, 0, 0, 1, 0,\n",
              "       0, 1, 1, 0, 0, 1, 1, 0, 0, 1, 0, 1, 1, 1, 0, 1, 0, 1, 0, 0, 1, 0,\n",
              "       0, 0, 0, 0, 1, 0, 0, 1, 0, 0, 1, 1, 0, 0, 1, 1, 0, 1, 1, 0, 1, 0,\n",
              "       0, 0, 1, 0, 0, 0, 0, 1, 1, 0, 1, 0, 0, 0, 1, 1, 0, 0, 1, 0, 0, 1,\n",
              "       1, 1, 1, 1, 1, 0, 1, 0, 1, 0, 1, 0, 1, 1, 0, 1, 0, 1, 0, 1, 1, 1,\n",
              "       0, 0, 1, 0, 1, 1, 1, 1, 0, 0, 0, 0, 1, 0, 1, 1, 0, 0, 1, 1, 1, 0,\n",
              "       1, 1, 0, 0])"
            ]
          },
          "metadata": {},
          "execution_count": 23
        }
      ]
    },
    {
      "cell_type": "code",
      "source": [
        "len(y_train)"
      ],
      "metadata": {
        "colab": {
          "base_uri": "https://localhost:8080/"
        },
        "id": "2KptfPbWMNcl",
        "outputId": "e8d2ef93-b428-4336-aeb5-f6be938c255f"
      },
      "execution_count": null,
      "outputs": [
        {
          "output_type": "execute_result",
          "data": {
            "text/plain": [
              "1372"
            ]
          },
          "metadata": {},
          "execution_count": 26
        }
      ]
    },
    {
      "cell_type": "code",
      "source": [
        "# set the random seed for reproducibility\n",
        "np.random.seed(66)\n",
        "\n",
        "# create an array of indices for shuffling\n",
        "indices = np.arange(len(X_train))\n",
        "\n",
        "# shuffle the indices\n",
        "np.random.shuffle(indices)\n",
        "\n",
        "# shuffle the x_train and y_train arrays using the shuffled indices\n",
        "X_train = X_train[indices]\n",
        "y_train = y_train[indices]"
      ],
      "metadata": {
        "id": "dgF0XkS-EHJD"
      },
      "execution_count": null,
      "outputs": []
    },
    {
      "cell_type": "code",
      "source": [
        "# Save x_train\n",
        "np.save('/content/drive/MyDrive/APS360/NIH-NLM-ThinBloodSmearsPf/x_train_data.npy', X_train)\n",
        "\n",
        "# Save y_train\n",
        "np.save('/content/drive/MyDrive/APS360/NIH-NLM-ThinBloodSmearsPf/y_train_data.npy', y_train)\n",
        "\n",
        "# Save x_val\n",
        "np.save('/content/drive/MyDrive/APS360/NIH-NLM-ThinBloodSmearsPf/x_val_data.npy', X_val)\n",
        "\n",
        "# Save y_val\n",
        "np.save('/content/drive/MyDrive/APS360/NIH-NLM-ThinBloodSmearsPf/y_val_data.npy', y_val)"
      ],
      "metadata": {
        "id": "ShxZg1JAfFto"
      },
      "execution_count": null,
      "outputs": []
    },
    {
      "cell_type": "code",
      "source": [
        "X_train = np.load('/content/drive/MyDrive/APS360/NIH-NLM-ThinBloodSmearsPf/x_train_data.npy', allow_pickle=True)\n",
        "y_train = np.load('/content/drive/MyDrive/APS360/NIH-NLM-ThinBloodSmearsPf/y_train_data.npy', allow_pickle=True)"
      ],
      "metadata": {
        "id": "_YJomh5MOYdm"
      },
      "execution_count": null,
      "outputs": []
    },
    {
      "cell_type": "code",
      "source": [
        "import matplotlib.pyplot as plt\n",
        "\n",
        "images = X_train[15:25]\n",
        "labels = y_train[15:25]\n",
        "\n",
        "# Create a figure with a grid of subplots\n",
        "fig, axs = plt.subplots(nrows=2, ncols=5, figsize=(10, 5))\n",
        "\n",
        "# Iterate over the images and labels in the batch and plot them in the subplots\n",
        "for i, (image, label) in enumerate(zip(images, labels)):\n",
        "    row = i // 5\n",
        "    col = i % 5\n",
        "    ax = axs[row, col]\n",
        "    ax.imshow(image)\n",
        "    ax.set_title(f\"Label: {label}\")\n",
        "    ax.axis('off')\n",
        "\n",
        "plt.tight_layout()\n",
        "plt.show()"
      ],
      "metadata": {
        "colab": {
          "base_uri": "https://localhost:8080/",
          "height": 346
        },
        "id": "r-zslc63STsX",
        "outputId": "1d358972-8aa0-433f-de99-8f937449e379"
      },
      "execution_count": null,
      "outputs": [
        {
          "output_type": "display_data",
          "data": {
            "text/plain": [
              "<Figure size 720x360 with 10 Axes>"
            ],
            "image/png": "[encoded data removed]"
          },
          "metadata": {
            "needs_background": "light"
          }
        }
      ]
    },
    {
      "cell_type": "code",
      "source": [
        "import torch\n",
        "X_train  = torch.from_numpy(X_train)"
      ],
      "metadata": {
        "id": "N9mPKsDTOsp9"
      },
      "execution_count": null,
      "outputs": []
    }
  ],
  "metadata": {
    "colab": {
      "provenance": [],
      "include_colab_link": true
    },
    "kernelspec": {
      "display_name": "Python 3",
      "name": "python3"
    },
    "language_info": {
      "name": "python"
    }
  },
  "nbformat": 4,
  "nbformat_minor": 0
}