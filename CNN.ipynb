{
  "cells": [
    {
      "cell_type": "markdown",
      "metadata": {
        "id": "view-in-github",
        "colab_type": "text"
      },
      "source": [
        "<a href=\"https://colab.research.google.com/github/JEN6YT/APS360-Project/blob/main/CNN.ipynb\" target=\"_parent\"><img src=\"https://colab.research.google.com/assets/colab-badge.svg\" alt=\"Open In Colab\"/></a>"
      ]
    },
    {
      "cell_type": "code",
      "execution_count": null,
      "metadata": {
        "id": "RLoW8tAWhqCq"
      },
      "outputs": [],
      "source": [
        "import numpy as np\n",
        "import time\n",
        "import torch\n",
        "import torch.nn as nn\n",
        "import torch.nn.functional as F\n",
        "import torch.optim as optim\n",
        "import torchvision\n",
        "from torch.utils.data.sampler import SubsetRandomSampler\n",
        "import torchvision.transforms as transforms\n",
        "import matplotlib.pyplot as plt"
      ]
    },
    {
      "cell_type": "code",
      "execution_count": null,
      "metadata": {
        "colab": {
          "base_uri": "https://localhost:8080/"
        },
        "id": "1V4VLWixN_C0",
        "outputId": "ef26e7cf-85b7-4198-c39d-eb4f10190c4a"
      },
      "outputs": [
        {
          "output_type": "stream",
          "name": "stdout",
          "text": [
            "Mounted at /content/drive\n"
          ]
        }
      ],
      "source": [
        "from google.colab import drive\n",
        "drive.mount('/content/drive')"
      ]
    },
    {
      "cell_type": "code",
      "source": [
        "X_train = np.load('/content/drive/MyDrive/APS360/NIH-NLM-ThinBloodSmearsPf/x_train_data.npy', allow_pickle=True)\n",
        "y_train = np.load('/content/drive/MyDrive/APS360/NIH-NLM-ThinBloodSmearsPf/y_train_data.npy', allow_pickle=True)\n",
        "X_val = np.load('/content/drive/MyDrive/APS360/NIH-NLM-ThinBloodSmearsPf/x_val_data.npy', allow_pickle=True)\n",
        "y_val = np.load('/content/drive/MyDrive/APS360/NIH-NLM-ThinBloodSmearsPf/y_val_data.npy', allow_pickle=True)\n"
      ],
      "metadata": {
        "id": "SIFqNpmMLtSn"
      },
      "execution_count": null,
      "outputs": []
    },
    {
      "cell_type": "code",
      "source": [
        "X_test = np.load('/content/drive/MyDrive/APS360/NIH-NLM-ThinBloodSmearsPf/x_test_data.npy', allow_pickle=True)\n",
        "y_test = np.load('/content/drive/MyDrive/APS360/NIH-NLM-ThinBloodSmearsPf/y_test_data.npy', allow_pickle=True)"
      ],
      "metadata": {
        "id": "VSiVp6xqxfBD"
      },
      "execution_count": null,
      "outputs": []
    },
    {
      "cell_type": "code",
      "source": [
        "type(X_train)"
      ],
      "metadata": {
        "id": "0ep15gMiUEud",
        "colab": {
          "base_uri": "https://localhost:8080/"
        },
        "outputId": "ef8c4635-8aee-45ca-c01d-0ca44d096e79"
      },
      "execution_count": null,
      "outputs": [
        {
          "output_type": "execute_result",
          "data": {
            "text/plain": [
              "numpy.ndarray"
            ]
          },
          "metadata": {},
          "execution_count": 5
        }
      ]
    },
    {
      "cell_type": "code",
      "source": [
        "X_train = np.float32(X_train)\n",
        "X_val = np.float32(X_val)"
      ],
      "metadata": {
        "id": "8hY92fb8N7k8"
      },
      "execution_count": null,
      "outputs": []
    },
    {
      "cell_type": "code",
      "source": [
        "X_test = np.float32(X_val)"
      ],
      "metadata": {
        "id": "1_lH8XCyyVrL"
      },
      "execution_count": null,
      "outputs": []
    },
    {
      "cell_type": "code",
      "source": [
        "X_train = np.transpose(X_train, (0,3,2,1))\n",
        "X_val = np.transpose(X_val, (0,3,2,1))"
      ],
      "metadata": {
        "id": "9WHbld96OYKI"
      },
      "execution_count": null,
      "outputs": []
    },
    {
      "cell_type": "code",
      "source": [
        "X_test = np.transpose(X_test, (0,3,2,1))"
      ],
      "metadata": {
        "id": "eL3Z1q6fzMSs"
      },
      "execution_count": null,
      "outputs": []
    },
    {
      "cell_type": "code",
      "source": [
        "X_train.shape"
      ],
      "metadata": {
        "colab": {
          "base_uri": "https://localhost:8080/"
        },
        "id": "rl8cZ3paOaP4",
        "outputId": "5edd54a9-5990-41a6-bd1b-0c0604ea93ba"
      },
      "execution_count": null,
      "outputs": [
        {
          "output_type": "execute_result",
          "data": {
            "text/plain": [
              "(1372, 3, 224, 224)"
            ]
          },
          "metadata": {},
          "execution_count": 7
        }
      ]
    },
    {
      "cell_type": "code",
      "source": [
        "import torch\n",
        "from torch.utils.data import Dataset, DataLoader\n",
        "\n",
        "class MyDataset(Dataset):\n",
        "    def __init__(self, data, targets, transform=None):\n",
        "        self.data = data\n",
        "        self.targets = targets\n",
        "        self.transform = transform\n",
        "\n",
        "    def __getitem__(self, index):\n",
        "        x = self.data[index]\n",
        "        y = self.targets[index]\n",
        "\n",
        "        if self.transform:\n",
        "            x = self.transform(x)\n",
        "\n",
        "        return x, y\n",
        "\n",
        "    def __len__(self):\n",
        "        return len(self.data)"
      ],
      "metadata": {
        "id": "JyPHtoaQMLLT"
      },
      "execution_count": null,
      "outputs": []
    },
    {
      "cell_type": "code",
      "source": [
        "train_dataset = MyDataset(X_train, y_train)\n",
        "val_dataset = MyDataset(X_val, y_val)\n",
        "test_dataset = MyDataset(X_test, y_test)"
      ],
      "metadata": {
        "id": "DAq-w-uKMWBs"
      },
      "execution_count": null,
      "outputs": []
    },
    {
      "cell_type": "code",
      "source": [
        "train_dataset"
      ],
      "metadata": {
        "colab": {
          "base_uri": "https://localhost:8080/"
        },
        "id": "NHLPjGlfNGyk",
        "outputId": "18c54bf9-39d6-4d62-d1a2-0d3c3d37e35d"
      },
      "execution_count": null,
      "outputs": [
        {
          "output_type": "execute_result",
          "data": {
            "text/plain": [
              "<__main__.MyDataset at 0x7feccde38640>"
            ]
          },
          "metadata": {},
          "execution_count": 9
        }
      ]
    },
    {
      "cell_type": "code",
      "source": [
        "train_loader = torch.utils.data.DataLoader(train_dataset, batch_size=128, num_workers=1, shuffle=True)\n",
        "#test_loader = torch.utils.data.DataLoader(test_dataset, batch_size=32, num_workers=4 , shuffle=True)\n",
        "val_loader = torch.utils.data.DataLoader(val_dataset, batch_size=32, num_workers=1 , shuffle=True)\n",
        "\n",
        "use_cuda = True\n",
        "\n",
        "print(\"Training dataset size: \", len(train_dataset))\n",
        "print(\"Validation dataset size: \", len(val_dataset))"
      ],
      "metadata": {
        "colab": {
          "base_uri": "https://localhost:8080/"
        },
        "id": "4Cx2qpKCNBrk",
        "outputId": "1b599077-92a7-4431-9345-008749c87953"
      },
      "execution_count": null,
      "outputs": [
        {
          "output_type": "stream",
          "name": "stdout",
          "text": [
            "Training dataset size:  1372\n",
            "Validation dataset size:  342\n"
          ]
        }
      ]
    },
    {
      "cell_type": "code",
      "source": [
        "test_loader = torch.utils.data.DataLoader(test_dataset, batch_size=32, num_workers=1 , shuffle=True)"
      ],
      "metadata": {
        "id": "dsGd-PjYzYnB"
      },
      "execution_count": null,
      "outputs": []
    },
    {
      "cell_type": "code",
      "execution_count": null,
      "metadata": {
        "collapsed": true,
        "id": "2dtx1z5951fS",
        "colab": {
          "base_uri": "https://localhost:8080/",
          "height": 104
        },
        "outputId": "0b74f614-b6c4-44d1-a5cc-5ebf0bb91cf3"
      },
      "outputs": [
        {
          "output_type": "execute_result",
          "data": {
            "text/plain": [
              "'\\nclass CNN(nn.Module):\\n  def __init__(self):\\n    super(CNN, self).__init__()\\n    self.name = \"cnn\"\\n    self.conv1 = nn.Conv2d(3, 5, 5) # in_channels=3, out_chanels=5, kernel_size=5\\n    self.pool = nn.MaxPool2d(2, 2)  #kernel_size=2, stride=2\\n    self.conv2 = nn.Conv2d(5, 10, 5)   # in_channels=5, out_chanels=10, kernel_size=5\\n    self.fc1 = nn.Linear(10 * 53 * 53, 244)\\n    self.fc2 = nn.Linear(244, 9)\\n\\n  def forward(self, img):\\n    x = self.pool(F.relu(self.conv1(img)))\\n    x = self.pool(F.relu(self.conv2(x)))\\n    x = x.view(-1, 10 * 53 * 53)\\n    x = F.relu(self.fc1(x))\\n    x = self.fc2(x)\\n    x = x.squeeze(1) # Flatten to [batch_size]\\n    return x\\nmodel = CNN()\\n'"
            ],
            "application/vnd.google.colaboratory.intrinsic+json": {
              "type": "string"
            }
          },
          "metadata": {},
          "execution_count": 9
        }
      ],
      "source": [
        "import torch.nn as nn\n",
        "import torch.nn.functional as F\n",
        "'''\n",
        "class CNN(nn.Module):\n",
        "  def __init__(self):\n",
        "    super(CNN, self).__init__()\n",
        "    self.name = \"cnn\"\n",
        "    self.conv1 = nn.Conv2d(3, 5, 5) # in_channels=3, out_chanels=5, kernel_size=5\n",
        "    self.pool = nn.MaxPool2d(2, 2)  #kernel_size=2, stride=2\n",
        "    self.conv2 = nn.Conv2d(5, 10, 5)   # in_channels=5, out_chanels=10, kernel_size=5\n",
        "    self.fc1 = nn.Linear(10 * 53 * 53, 244)\n",
        "    self.fc2 = nn.Linear(244, 9)\n",
        "\n",
        "  def forward(self, img):\n",
        "    x = self.pool(F.relu(self.conv1(img)))\n",
        "    x = self.pool(F.relu(self.conv2(x)))\n",
        "    x = x.view(-1, 10 * 53 * 53)\n",
        "    x = F.relu(self.fc1(x))\n",
        "    x = self.fc2(x)\n",
        "    x = x.squeeze(1) # Flatten to [batch_size]\n",
        "    return x\n",
        "model = CNN()\n",
        "'''"
      ]
    },
    {
      "cell_type": "code",
      "source": [
        "class CNN(nn.Module):\n",
        "  def __init__(self):\n",
        "    super(CNN, self).__init__()\n",
        "    self.name = \"cnn\"\n",
        "    self.conv1 = nn.Conv2d(3, 16, 3) # in_channels=3, out_chanels=5, kernel_size=5\n",
        "    self.pool = nn.MaxPool2d(2, 2)  #kernel_size=2, stride=2\n",
        "    self.conv2 = nn.Conv2d(16, 32, 3)   # in_channels=5, out_chanels=10, kernel_size=5\n",
        "    self.conv3 = nn.Conv2d(32, 64, 3)\n",
        "    self.conv4 = nn.Conv2d(64, 128, 3)\n",
        "\n",
        "    self.fc1 = nn.Linear(18432, 224)\n",
        "    self.fc2 = nn.Linear(224, 9)\n",
        "\n",
        "  def forward(self, img):\n",
        "    \n",
        "    x = self.pool(F.relu(self.conv1(img)))\n",
        "    #print(\"after layer 1:\",x.shape)\n",
        "    x = self.pool(F.relu(self.conv2(x)))\n",
        "    #print(\"after layer 2:\",x.shape)\n",
        "    x = self.pool(F.relu(self.conv3(x)))\n",
        "    #print(\"after layer 3:\",x.shape)\n",
        "    x = self.pool(F.relu(self.conv4(x)))\n",
        "    #print(\"after layer 4:\",x.shape)\n",
        "    x = x.view(-1, 18432)\n",
        "    x = F.relu(self.fc1(x))\n",
        "    x = self.fc2(x)\n",
        "    x = x.squeeze(1) # Flatten to [batch_size]\n",
        "    return x\n",
        "model = CNN()\n"
      ],
      "metadata": {
        "id": "uo48BJmJn385"
      },
      "execution_count": null,
      "outputs": []
    },
    {
      "cell_type": "code",
      "source": [
        "'''\n",
        "import torch.nn.functional as F\n",
        "\n",
        "class CNN(nn.Module):\n",
        "    def __init__(self):\n",
        "        super(CNN, self).__init__()\n",
        "        self.name = \"cnn\"\n",
        "        self.conv1 = nn.Conv2d(3, 16, 3)\n",
        "        self.conv2 = nn.Conv2d(16, 32, 3)\n",
        "        self.conv3 = nn.Conv2d(32, 64, 3)\n",
        "        self.conv4 = nn.Conv2d(64, 128, 3)\n",
        "\n",
        "        self.encoder = nn.Sequential(\n",
        "            self.conv1,\n",
        "            nn.ReLU(),\n",
        "            nn.MaxPool2d(2, 2),\n",
        "            self.conv2,\n",
        "            nn.ReLU(),\n",
        "            nn.MaxPool2d(2, 2),\n",
        "            self.conv3,\n",
        "            nn.ReLU(),\n",
        "            nn.MaxPool2d(2, 2),\n",
        "            self.conv4,\n",
        "            nn.ReLU(),\n",
        "            nn.MaxPool2d(2, 2),\n",
        "        )\n",
        "\n",
        "        self.decoder = nn.Sequential(\n",
        "            nn.ConvTranspose2d(128, 64, 3, stride=2),\n",
        "            nn.ReLU(),\n",
        "            nn.ConvTranspose2d(64, 32, 3, stride=2),\n",
        "            nn.ReLU(),\n",
        "            nn.ConvTranspose2d(32, 16, 3, stride=2),\n",
        "            nn.ReLU(),\n",
        "            nn.ConvTranspose2d(16, 3, 3, stride=2),\n",
        "            nn.Sigmoid()\n",
        "        )\n",
        "\n",
        "        self.fc1 = nn.Linear(18432, 244)\n",
        "        self.fc2 = nn.Linear(244, 9)\n",
        "\n",
        "    def forward(self, img):\n",
        "        x = self.encoder(img)\n",
        "        x = x.view(-1, 128 * 6 * 6)\n",
        "        x = F.relu(self.fc1(x))\n",
        "        x = self.fc2(x)\n",
        "        x = x.squeeze(1)\n",
        "        x = x.view(-1, 3, 256, 256)\n",
        "        x = self.decoder(x)\n",
        "        return x\n",
        "\n",
        "model = CNN()\n",
        "'''"
      ],
      "metadata": {
        "id": "ZRw3DfKBGXgG"
      },
      "execution_count": null,
      "outputs": []
    },
    {
      "cell_type": "code",
      "source": [
        "def train(model, train_loader,val_loader, batch_size=128, num_epochs=20, learning_rate=0.01):\n",
        "    torch.manual_seed(1000)\n",
        "    criterion = nn.CrossEntropyLoss()\n",
        "    optimizer = optim.Adam(model.parameters(), lr=learning_rate)\n",
        "\n",
        "    iters, train_loss, val_loss, train_acc, val_acc = [], [], [], [], []\n",
        "\n",
        "    # Training\n",
        "    start_time = time.time()\n",
        "    n = 0 # the number of iterations\n",
        "    for epoch in range(num_epochs):\n",
        "        for imgs, labels in iter(train_loader):\n",
        "          \n",
        "            if use_cuda and torch.cuda.is_available():\n",
        "              imgs = imgs.cuda()\n",
        "              labels = labels.cuda()\n",
        "             \n",
        "            out = model(imgs)             # forward pass\n",
        "            loss = criterion(out, labels) # compute the total loss\n",
        "            loss.backward()               # backward pass (compute parameter updates)\n",
        "            optimizer.step()              # make the updates for each parameter\n",
        "            optimizer.zero_grad()         # a clean up step for PyTorch\n",
        "\n",
        "            # Save the current training information\n",
        "            #iters.append(n)\n",
        "            #train_loss.append(float(loss)/batch_size)             # compute *average* loss\n",
        "            #n += 1\n",
        "        \n",
        "        for imgs, labels in iter(val_loader):\n",
        "          \n",
        "            if use_cuda and torch.cuda.is_available():\n",
        "              imgs = imgs.cuda()\n",
        "              labels = labels.cuda()\n",
        "            \n",
        "            out = model(imgs)             # forward pass\n",
        "            valid_loss = criterion(out, labels) # compute the total loss\n",
        "            valid_loss.backward()               # backward pass (compute parameter updates)\n",
        "            optimizer.step()              # make the updates for each parameter\n",
        "            optimizer.zero_grad()         # a clean up step for PyTorch\n",
        "\n",
        "            # Save the current training information\n",
        "        \n",
        "        train_loss.append(float(loss)/batch_size)\n",
        "        val_loss.append(float(valid_loss)/batch_size)             # compute *average* loss\n",
        "        \n",
        "        train_acc.append(get_accuracy(model, train=True)) # compute training accuracy \n",
        "        val_acc.append(get_accuracy(model, train=False))  # compute validation accuracy\n",
        "        \n",
        "        print((\"Epoch {}: Train acc: {} |\"+\"Validation acc: {}\").format(\n",
        "                epoch + 1,\n",
        "                train_acc[-1],\n",
        "                val_acc[-1]))\n",
        "        print((\"Epoch {}: Train loss: {} |\"+\"Validation loss: {}\").format(\n",
        "                epoch + 1,\n",
        "                train_loss[-1],\n",
        "                val_loss[-1]))\n",
        "        # Save the current model (checkpoint) to a file\n",
        "        model_path = get_model_name(model.name, batch_size, learning_rate, epoch)\n",
        "        torch.save(model.state_dict(), model_path)\n",
        "    \n",
        "    print('Finished Training')\n",
        "    end_time = time.time()\n",
        "    elapsed_time = end_time - start_time\n",
        "    print(\"Total time elapsed: {:.2f} seconds\".format(elapsed_time))\n",
        "\n",
        "    # Plotting\n",
        "    plt.title(\"Training Curve\")\n",
        "    plt.plot(range(1 ,num_epochs+1), train_loss, label=\"Train\")\n",
        "    plt.plot(range(1 ,num_epochs+1), val_loss, label=\"Validation\")\n",
        "    plt.xlabel(\"Epochs\")\n",
        "    plt.ylabel(\"Loss\")\n",
        "    plt.legend(loc='best')\n",
        "    plt.show()\n",
        "\n",
        "    plt.title(\"Training Curve\")\n",
        "    plt.plot(range(1 ,num_epochs+1), train_acc, label=\"Train\")\n",
        "    plt.plot(range(1 ,num_epochs+1), val_acc, label=\"Validation\")\n",
        "    plt.xlabel(\"Epochs\")\n",
        "    plt.ylabel(\"Training Accuracy\")\n",
        "    plt.legend(loc='best')\n",
        "    plt.show()\n",
        "\n",
        "    print(\"Final Training Accuracy: {}\".format(train_acc[-1]))\n",
        "    print(\"Final Validation Accuracy: {}\".format(val_acc[-1]))\n",
        "\n",
        "\n"
      ],
      "metadata": {
        "id": "Y3BIiQmN4iHP"
      },
      "execution_count": null,
      "outputs": []
    },
    {
      "cell_type": "code",
      "source": [
        "def get_accuracy(model, train=False):\n",
        "    if train:\n",
        "        data = train_loader\n",
        "    else:\n",
        "        data = val_loader\n",
        "\n",
        "    correct = 0\n",
        "    total = 0\n",
        "    for imgs, labels in data:\n",
        "        if torch.cuda.is_available():\n",
        "          imgs = imgs.cuda()\n",
        "          labels = labels.cuda()\n",
        "        output = model(imgs)\n",
        "        \n",
        "        #select index with maximum prediction score\n",
        "        pred = output.max(1, keepdim=True)[1]\n",
        "        correct += pred.eq(labels.view_as(pred)).sum().item()\n",
        "        total += imgs.shape[0]\n",
        "    return correct / total"
      ],
      "metadata": {
        "id": "FqM_NS1C-82a"
      },
      "execution_count": null,
      "outputs": []
    },
    {
      "cell_type": "code",
      "execution_count": null,
      "metadata": {
        "collapsed": true,
        "id": "17YTQv4l54W1"
      },
      "outputs": [],
      "source": [
        "###############################################################################\n",
        "# Training\n",
        "def get_model_name(name, batch_size, learning_rate, epoch):\n",
        "    \"\"\" Generate a name for the model consisting of all the hyperparameter values\n",
        "\n",
        "    Args:\n",
        "        config: Configuration object containing the hyperparameters\n",
        "    Returns:\n",
        "        path: A string with the hyperparameter name and value concatenated\n",
        "    \"\"\"\n",
        "    path = \"model_{0}_bs{1}_lr{2}_epoch{3}\".format(name,\n",
        "                                                   batch_size,\n",
        "                                                   learning_rate,\n",
        "                                                   epoch)\n",
        "    return path\n",
        "\n"
      ]
    },
    {
      "cell_type": "code",
      "source": [
        "train(model, train_loader, val_loader, batch_size=256, learning_rate=1e-4, num_epochs=50)"
      ],
      "metadata": {
        "colab": {
          "base_uri": "https://localhost:8080/",
          "height": 1000
        },
        "id": "qvWBT_mOK-W4",
        "outputId": "710cf864-fcc0-4f7f-888f-0de527e32d5b"
      },
      "execution_count": null,
      "outputs": [
        {
          "output_type": "stream",
          "name": "stdout",
          "text": [
            "Epoch 1: Train acc: 0.6209912536443148 |Validation acc: 0.6549707602339181\n",
            "Epoch 1: Train loss: 0.002662727842107415 |Validation loss: 0.0023195622488856316\n",
            "Epoch 2: Train acc: 0.6435860058309038 |Validation acc: 0.695906432748538\n",
            "Epoch 2: Train loss: 0.0023713335394859314 |Validation loss: 0.0021360742393881083\n",
            "Epoch 3: Train acc: 0.6552478134110787 |Validation acc: 0.6754385964912281\n",
            "Epoch 3: Train loss: 0.0020802882499992847 |Validation loss: 0.0021417508833110332\n",
            "Epoch 4: Train acc: 0.7142857142857143 |Validation acc: 0.7426900584795322\n",
            "Epoch 4: Train loss: 0.0024249576963484287 |Validation loss: 0.002442707307636738\n",
            "Epoch 5: Train acc: 0.6603498542274052 |Validation acc: 0.695906432748538\n",
            "Epoch 5: Train loss: 0.0020978422835469246 |Validation loss: 0.0018196963937953115\n",
            "Epoch 6: Train acc: 0.6997084548104956 |Validation acc: 0.7280701754385965\n",
            "Epoch 6: Train loss: 0.0021861197892576456 |Validation loss: 0.002778982277959585\n",
            "Epoch 7: Train acc: 0.7164723032069971 |Validation acc: 0.7426900584795322\n",
            "Epoch 7: Train loss: 0.002366019180044532 |Validation loss: 0.0024587621446698904\n",
            "Epoch 8: Train acc: 0.7448979591836735 |Validation acc: 0.7660818713450293\n",
            "Epoch 8: Train loss: 0.002138500800356269 |Validation loss: 0.0016259882831946015\n",
            "Epoch 9: Train acc: 0.7419825072886297 |Validation acc: 0.7690058479532164\n",
            "Epoch 9: Train loss: 0.0025855540297925472 |Validation loss: 0.0014943386195227504\n",
            "Epoch 10: Train acc: 0.7208454810495627 |Validation acc: 0.7660818713450293\n",
            "Epoch 10: Train loss: 0.0022682147100567818 |Validation loss: 0.0024107748176902533\n",
            "Epoch 11: Train acc: 0.7419825072886297 |Validation acc: 0.7690058479532164\n",
            "Epoch 11: Train loss: 0.0019500086782500148 |Validation loss: 0.002188578015193343\n",
            "Epoch 12: Train acc: 0.6982507288629738 |Validation acc: 0.7134502923976608\n",
            "Epoch 12: Train loss: 0.002098998986184597 |Validation loss: 0.0018538188887760043\n",
            "Epoch 13: Train acc: 0.749271137026239 |Validation acc: 0.7631578947368421\n",
            "Epoch 13: Train loss: 0.0022165507543832064 |Validation loss: 0.0018488381756469607\n",
            "Epoch 14: Train acc: 0.7354227405247813 |Validation acc: 0.7514619883040936\n",
            "Epoch 14: Train loss: 0.0020933584310114384 |Validation loss: 0.0017390948487445712\n",
            "Epoch 15: Train acc: 0.7572886297376094 |Validation acc: 0.7894736842105263\n",
            "Epoch 15: Train loss: 0.002108515240252018 |Validation loss: 0.0019828148651868105\n",
            "Epoch 16: Train acc: 0.7456268221574344 |Validation acc: 0.7807017543859649\n",
            "Epoch 16: Train loss: 0.002111542969942093 |Validation loss: 0.0018488983623683453\n",
            "Epoch 17: Train acc: 0.7565597667638484 |Validation acc: 0.7719298245614035\n",
            "Epoch 17: Train loss: 0.0017840915825217962 |Validation loss: 0.002063240623101592\n",
            "Epoch 18: Train acc: 0.7631195335276968 |Validation acc: 0.7982456140350878\n",
            "Epoch 18: Train loss: 0.0017504343995824456 |Validation loss: 0.0028817825950682163\n",
            "Epoch 19: Train acc: 0.7580174927113703 |Validation acc: 0.7719298245614035\n",
            "Epoch 19: Train loss: 0.002085315063595772 |Validation loss: 0.0017540956614539027\n",
            "Epoch 20: Train acc: 0.7631195335276968 |Validation acc: 0.7982456140350878\n",
            "Epoch 20: Train loss: 0.002141124103218317 |Validation loss: 0.0018460958963260055\n",
            "Epoch 21: Train acc: 0.7572886297376094 |Validation acc: 0.7719298245614035\n",
            "Epoch 21: Train loss: 0.00238413130864501 |Validation loss: 0.0016003742348402739\n",
            "Epoch 22: Train acc: 0.7638483965014577 |Validation acc: 0.7923976608187134\n",
            "Epoch 22: Train loss: 0.0015512006357312202 |Validation loss: 0.0023784732911735773\n",
            "Epoch 23: Train acc: 0.7558309037900874 |Validation acc: 0.7865497076023392\n",
            "Epoch 23: Train loss: 0.0019401784520596266 |Validation loss: 0.001723641064018011\n",
            "Epoch 24: Train acc: 0.7711370262390671 |Validation acc: 0.8011695906432749\n",
            "Epoch 24: Train loss: 0.0018195061711594462 |Validation loss: 0.0012525104684755206\n",
            "Epoch 25: Train acc: 0.7653061224489796 |Validation acc: 0.8011695906432749\n",
            "Epoch 25: Train loss: 0.0021049506030976772 |Validation loss: 0.0021323689725250006\n",
            "Epoch 26: Train acc: 0.7747813411078717 |Validation acc: 0.7982456140350878\n",
            "Epoch 26: Train loss: 0.0019462717464193702 |Validation loss: 0.0010643003042787313\n",
            "Epoch 27: Train acc: 0.7769679300291545 |Validation acc: 0.8070175438596491\n",
            "Epoch 27: Train loss: 0.0021605268120765686 |Validation loss: 0.0021610481198877096\n",
            "Epoch 28: Train acc: 0.7594752186588921 |Validation acc: 0.7777777777777778\n",
            "Epoch 28: Train loss: 0.0017122183926403522 |Validation loss: 0.002481970004737377\n",
            "Epoch 29: Train acc: 0.7733236151603499 |Validation acc: 0.804093567251462\n",
            "Epoch 29: Train loss: 0.0017594682285562158 |Validation loss: 0.0013308930210769176\n",
            "Epoch 30: Train acc: 0.7747813411078717 |Validation acc: 0.8070175438596491\n",
            "Epoch 30: Train loss: 0.0018871057545766234 |Validation loss: 0.0015842152060940862\n",
            "Epoch 31: Train acc: 0.7864431486880467 |Validation acc: 0.804093567251462\n",
            "Epoch 31: Train loss: 0.001715399674139917 |Validation loss: 0.0022999269422143698\n",
            "Epoch 32: Train acc: 0.7922740524781341 |Validation acc: 0.8128654970760234\n",
            "Epoch 32: Train loss: 0.0019342123996466398 |Validation loss: 0.002046445617452264\n",
            "Epoch 33: Train acc: 0.7776967930029155 |Validation acc: 0.804093567251462\n",
            "Epoch 33: Train loss: 0.00211056019179523 |Validation loss: 0.0012978118611499667\n",
            "Epoch 34: Train acc: 0.7558309037900874 |Validation acc: 0.7719298245614035\n",
            "Epoch 34: Train loss: 0.0018989205127581954 |Validation loss: 0.002293436089530587\n",
            "Epoch 35: Train acc: 0.7638483965014577 |Validation acc: 0.7894736842105263\n",
            "Epoch 35: Train loss: 0.0016210362082347274 |Validation loss: 0.0020858938805758953\n",
            "Epoch 36: Train acc: 0.7988338192419825 |Validation acc: 0.8187134502923976\n",
            "Epoch 36: Train loss: 0.0017569743795320392 |Validation loss: 0.0010488292900845408\n",
            "Epoch 37: Train acc: 0.7864431486880467 |Validation acc: 0.8187134502923976\n",
            "Epoch 37: Train loss: 0.0020107836462557316 |Validation loss: 0.001852062065154314\n",
            "Epoch 38: Train acc: 0.8024781341107872 |Validation acc: 0.8187134502923976\n",
            "Epoch 38: Train loss: 0.0018354200292378664 |Validation loss: 0.0010712984949350357\n",
            "Epoch 39: Train acc: 0.7470845481049563 |Validation acc: 0.7660818713450293\n",
            "Epoch 39: Train loss: 0.001940123620443046 |Validation loss: 0.0018103624461218715\n",
            "Epoch 40: Train acc: 0.7864431486880467 |Validation acc: 0.8187134502923976\n",
            "Epoch 40: Train loss: 0.0018274059984833002 |Validation loss: 0.0024117929860949516\n",
            "Epoch 41: Train acc: 0.8061224489795918 |Validation acc: 0.8216374269005848\n",
            "Epoch 41: Train loss: 0.0016894356813281775 |Validation loss: 0.0014850981533527374\n",
            "Epoch 42: Train acc: 0.7900874635568513 |Validation acc: 0.8245614035087719\n",
            "Epoch 42: Train loss: 0.0016516009345650673 |Validation loss: 0.0012224579695612192\n",
            "Epoch 43: Train acc: 0.8053935860058309 |Validation acc: 0.8128654970760234\n",
            "Epoch 43: Train loss: 0.0020644767209887505 |Validation loss: 0.0015481486916542053\n",
            "Epoch 44: Train acc: 0.8039358600583091 |Validation acc: 0.8070175438596491\n",
            "Epoch 44: Train loss: 0.0018973357509821653 |Validation loss: 0.0014493106864392757\n",
            "Epoch 45: Train acc: 0.8068513119533528 |Validation acc: 0.8128654970760234\n",
            "Epoch 45: Train loss: 0.001658812165260315 |Validation loss: 0.0008320171618834138\n",
            "Epoch 46: Train acc: 0.8017492711370262 |Validation acc: 0.8421052631578947\n",
            "Epoch 46: Train loss: 0.0015840521082282066 |Validation loss: 0.0013545824913308024\n",
            "Epoch 47: Train acc: 0.7995626822157434 |Validation acc: 0.8391812865497076\n",
            "Epoch 47: Train loss: 0.0019313775701448321 |Validation loss: 0.0016472182469442487\n",
            "Epoch 48: Train acc: 0.8104956268221575 |Validation acc: 0.8421052631578947\n",
            "Epoch 48: Train loss: 0.0017806683899834752 |Validation loss: 0.001724389847368002\n",
            "Epoch 49: Train acc: 0.8061224489795918 |Validation acc: 0.8508771929824561\n",
            "Epoch 49: Train loss: 0.001788476132787764 |Validation loss: 0.0017507580341771245\n",
            "Epoch 50: Train acc: 0.8104956268221575 |Validation acc: 0.8216374269005848\n",
            "Epoch 50: Train loss: 0.001705410541035235 |Validation loss: 0.0018546488136053085\n",
            "Finished Training\n",
            "Total time elapsed: 7870.16 seconds\n"
          ]
        },
        {
          "output_type": "display_data",
          "data": {
            "text/plain": [
              "<Figure size 640x480 with 1 Axes>"
            ],
            "image/png": "[encoded data removed]"
          },
          "metadata": {}
        },
        {
          "output_type": "display_data",
          "data": {
            "text/plain": [
              "<Figure size 640x480 with 1 Axes>"
            ],
            "image/png": "[encoded data removed]"
          },
          "metadata": {}
        },
        {
          "output_type": "stream",
          "name": "stdout",
          "text": [
            "Final Training Accuracy: 0.8104956268221575\n",
            "Final Validation Accuracy: 0.8216374269005848\n"
          ]
        }
      ]
    },
    {
      "cell_type": "markdown",
      "source": [
        "Testing the data"
      ],
      "metadata": {
        "id": "259f1v5X9yiW"
      }
    },
    {
      "cell_type": "code",
      "source": [
        "X_test = np.load('/content/drive/MyDrive/APS360/NIH-NLM-ThinBloodSmearsPf/x_test_data.npy', allow_pickle=True)\n",
        "y_test = np.load('/content/drive/MyDrive/APS360/NIH-NLM-ThinBloodSmearsPf/y_test_data.npy', allow_pickle=True)"
      ],
      "metadata": {
        "id": "Hr4K0B6k994r"
      },
      "execution_count": null,
      "outputs": []
    },
    {
      "cell_type": "code",
      "source": [
        "X_test = np.transpose(X_test, (0,3,2,1))\n",
        "X_test = np.float32(X_val)"
      ],
      "metadata": {
        "id": "079Rlneq-cW6"
      },
      "execution_count": null,
      "outputs": []
    },
    {
      "cell_type": "code",
      "source": [
        "test_dataset = MyDataset(X_test, y_test)\n",
        "test_loader = torch.utils.data.DataLoader(test_dataset, batch_size=32, num_workers=1 , shuffle=True)"
      ],
      "metadata": {
        "id": "e05Ar_9y-Fw9"
      },
      "execution_count": null,
      "outputs": []
    },
    {
      "cell_type": "code",
      "source": [
        "model_path = get_model_name(model.name, batch_size=256, learning_rate=1e-4, epoch=49)\n",
        "state = torch.load(model_path)\n",
        "CNN.load_state_dict(state)"
      ],
      "metadata": {
        "colab": {
          "base_uri": "https://localhost:8080/"
        },
        "id": "sVw7FBsYBDTV",
        "outputId": "30485989-2e74-4b80-a304-fdb21b675fef"
      },
      "execution_count": null,
      "outputs": [
        {
          "output_type": "execute_result",
          "data": {
            "text/plain": [
              "<All keys matched successfully>"
            ]
          },
          "metadata": {},
          "execution_count": 56
        }
      ]
    },
    {
      "cell_type": "code",
      "source": [
        "test_accuracy = get_accuracy(CNN,test_loader)\n",
        "test_accuracy"
      ],
      "metadata": {
        "colab": {
          "base_uri": "https://localhost:8080/"
        },
        "id": "ns5DESfA_7Do",
        "outputId": "b106fa25-9c97-49e9-f531-8f8ede10a77f"
      },
      "execution_count": null,
      "outputs": [
        {
          "output_type": "execute_result",
          "data": {
            "text/plain": [
              "0.8104956268221575"
            ]
          },
          "metadata": {},
          "execution_count": 57
        }
      ]
    },
    {
      "cell_type": "code",
      "source": [],
      "metadata": {
        "id": "Hj5a2WhZ_7rV"
      },
      "execution_count": null,
      "outputs": []
    },
    {
      "cell_type": "code",
      "source": [
        "test_false_positive = 1 - test_accuracy\n",
        "test_false_positive"
      ],
      "metadata": {
        "colab": {
          "base_uri": "https://localhost:8080/"
        },
        "id": "OmL2FiNx802g",
        "outputId": "d002e545-a40a-4f40-e585-bed0809c4cc5"
      },
      "execution_count": null,
      "outputs": [
        {
          "output_type": "execute_result",
          "data": {
            "text/plain": [
              "0.18950437317784252"
            ]
          },
          "metadata": {},
          "execution_count": 43
        }
      ]
    }
  ],
  "metadata": {
    "colab": {
      "provenance": [],
      "include_colab_link": true
    },
    "kernelspec": {
      "display_name": "Python 3 (ipykernel)",
      "language": "python",
      "name": "python3"
    },
    "language_info": {
      "codemirror_mode": {
        "name": "ipython",
        "version": 3
      },
      "file_extension": ".py",
      "mimetype": "text/x-python",
      "name": "python",
      "nbconvert_exporter": "python",
      "pygments_lexer": "ipython3",
      "version": "3.9.4"
    }
  },
  "nbformat": 4,
  "nbformat_minor": 0
}